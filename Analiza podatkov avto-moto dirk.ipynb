{
 "cells": [
  {
   "cell_type": "markdown",
   "metadata": {},
   "source": [
    "# ANALIZA PODATKOV: AVTO-MOTO DIRKE"
   ]
  },
  {
   "cell_type": "markdown",
   "metadata": {},
   "source": [
    "Za projektno nalogo sem si izbrala analizo podatkov avto-moto dirk od začetkov beleženja uradnih dirk pa vse do konca oktobra 2018. Zbrala sem podatke o vseh dirkah, ki so potekale in bile zabeležene. Za vsako dirko sem zajela uradno ime dirke, prizorišče dirke, datum, prvenstvo in zmagovalca, če je le ta seveda sploh bil.\n",
    "\n",
    "Projektna naloga bo strukturirana iz dveh delov. \n",
    "Prvi del, bo predstavil zbrane podatke o dirkah. Tu bo vključena predvsem:\n",
    "        - število dirk v posameznih državah,\n",
    "        - statistika po posameznih prvenstvih in \n",
    "        - priljubljenost dirk po različnih časovnih obdobjih.\n",
    "V drugem delu, se bom bolj posvetila dirkačem. Predstavila bom:\n",
    "        - uspešnosti dirkačev v različnih kategorijah,\n",
    "        - uspešnost dirkačev v različnih državah ter\n",
    "        - uspešnost dirkačev v različnih obdojih.\n",
    "Ker je podatkov veliko, se bom pri vseh osredotočila le na tiste, ki jih imajo največ, saj s tem lahko pridobimo tudi najbolj realne podatke in primerjave."
   ]
  },
  {
   "cell_type": "markdown",
   "metadata": {},
   "source": [
    "## Podatki"
   ]
  },
  {
   "cell_type": "code",
   "execution_count": 196,
   "metadata": {},
   "outputs": [],
   "source": [
    "import pandas as pd\n",
    "import matplotlib.pyplot as mat\n",
    "%matplotlib inline\n",
    "\n",
    "dirke = pd.read_csv('avto-moto dirke csvji\\dirke.csv', index_col='ime')\n",
    "\n",
    "pd.options.display.max_rows = 20"
   ]
  },
  {
   "cell_type": "markdown",
   "metadata": {},
   "source": [
    "Za začetek si oglejmo zbrane podatke."
   ]
  },
  {
   "cell_type": "code",
   "execution_count": 152,
   "metadata": {
    "scrolled": false
   },
   "outputs": [
    {
     "data": {
      "text/html": [
       "<div>\n",
       "<style scoped>\n",
       "    .dataframe tbody tr th:only-of-type {\n",
       "        vertical-align: middle;\n",
       "    }\n",
       "\n",
       "    .dataframe tbody tr th {\n",
       "        vertical-align: top;\n",
       "    }\n",
       "\n",
       "    .dataframe thead th {\n",
       "        text-align: right;\n",
       "    }\n",
       "</style>\n",
       "<table border=\"1\" class=\"dataframe\">\n",
       "  <thead>\n",
       "    <tr style=\"text-align: right;\">\n",
       "      <th></th>\n",
       "      <th>dirkalisce</th>\n",
       "      <th>drzava</th>\n",
       "      <th>leto</th>\n",
       "      <th>prvenstvo</th>\n",
       "      <th>zmagovalec</th>\n",
       "    </tr>\n",
       "    <tr>\n",
       "      <th>ime</th>\n",
       "      <th></th>\n",
       "      <th></th>\n",
       "      <th></th>\n",
       "      <th></th>\n",
       "      <th></th>\n",
       "    </tr>\n",
       "  </thead>\n",
       "  <tbody>\n",
       "    <tr>\n",
       "      <th>Mexican Grand Prix</th>\n",
       "      <td>Gran Premio de Mexico</td>\n",
       "      <td>MEX</td>\n",
       "      <td>2018</td>\n",
       "      <td>F1 World Championship</td>\n",
       "      <td>Max Verstappen</td>\n",
       "    </tr>\n",
       "    <tr>\n",
       "      <th>Australian MotoGP</th>\n",
       "      <td>Michelin Australian Motorcycle Grand Prix</td>\n",
       "      <td>AUS</td>\n",
       "      <td>2018</td>\n",
       "      <td>World Motorcycle Championship</td>\n",
       "      <td>Maverick Vinales</td>\n",
       "    </tr>\n",
       "    <tr>\n",
       "      <th>Martinsville NASCAR</th>\n",
       "      <td>First Data 500</td>\n",
       "      <td>USA</td>\n",
       "      <td>2018</td>\n",
       "      <td>Monster Energy NASCAR Cup</td>\n",
       "      <td>Joey Logano</td>\n",
       "    </tr>\n",
       "    <tr>\n",
       "      <th>Suzuka WTCR</th>\n",
       "      <td>Race of Japan - Race 2</td>\n",
       "      <td>JPN</td>\n",
       "      <td>2018</td>\n",
       "      <td>World Touring Car Cup</td>\n",
       "      <td>Rob Huff</td>\n",
       "    </tr>\n",
       "    <tr>\n",
       "      <th>Suzuka WTCR</th>\n",
       "      <td>Race of Japan - Race 3</td>\n",
       "      <td>JPN</td>\n",
       "      <td>2018</td>\n",
       "      <td>World Touring Car Cup</td>\n",
       "      <td>Gabriele Tarquini</td>\n",
       "    </tr>\n",
       "    <tr>\n",
       "      <th>Suzuka Super Formula</th>\n",
       "      <td>NaN</td>\n",
       "      <td>JPN</td>\n",
       "      <td>2018</td>\n",
       "      <td>Japanese Super Formula Championship</td>\n",
       "      <td>Naoki Yamamoto</td>\n",
       "    </tr>\n",
       "    <tr>\n",
       "      <th>Suzuka WTCR</th>\n",
       "      <td>Race of Japan - Race 1</td>\n",
       "      <td>JPN</td>\n",
       "      <td>2018</td>\n",
       "      <td>World Touring Car Cup</td>\n",
       "      <td>Kevin Ceccon</td>\n",
       "    </tr>\n",
       "    <tr>\n",
       "      <th>Japanese MotoGP</th>\n",
       "      <td>Motul Grand Prix of Japan</td>\n",
       "      <td>JPN</td>\n",
       "      <td>2018</td>\n",
       "      <td>World Motorcycle Championship</td>\n",
       "      <td>Marc Marquez</td>\n",
       "    </tr>\n",
       "    <tr>\n",
       "      <th>Kansas NASCAR</th>\n",
       "      <td>Hollywood Casino 400</td>\n",
       "      <td>USA</td>\n",
       "      <td>2018</td>\n",
       "      <td>Monster Energy NASCAR Cup</td>\n",
       "      <td>Chase Elliott</td>\n",
       "    </tr>\n",
       "    <tr>\n",
       "      <th>United States Grand Prix</th>\n",
       "      <td>Pirelli United States Grand Prix</td>\n",
       "      <td>USA</td>\n",
       "      <td>2018</td>\n",
       "      <td>F1 World Championship</td>\n",
       "      <td>Kimi Raikkonen</td>\n",
       "    </tr>\n",
       "    <tr>\n",
       "      <th>...</th>\n",
       "      <td>...</td>\n",
       "      <td>...</td>\n",
       "      <td>...</td>\n",
       "      <td>...</td>\n",
       "      <td>...</td>\n",
       "    </tr>\n",
       "    <tr>\n",
       "      <th>Nice-Castellane-Nice</th>\n",
       "      <td>Nice-Castellane-Nice</td>\n",
       "      <td>FRA</td>\n",
       "      <td>1899</td>\n",
       "      <td>Non-championship</td>\n",
       "      <td>Albert Lemaitre</td>\n",
       "    </tr>\n",
       "    <tr>\n",
       "      <th>Paris-Amsterdam</th>\n",
       "      <td>Paris-Amsterdam-Paris</td>\n",
       "      <td>FRA</td>\n",
       "      <td>1898</td>\n",
       "      <td>Non-championship</td>\n",
       "      <td>Fernand Charron</td>\n",
       "    </tr>\n",
       "    <tr>\n",
       "      <th>Paris-Bordeaux</th>\n",
       "      <td>Criterium des Entraineurs (Paris-Bordeaux)</td>\n",
       "      <td>FRA</td>\n",
       "      <td>1898</td>\n",
       "      <td>Non-championship</td>\n",
       "      <td>Rene de Knyff</td>\n",
       "    </tr>\n",
       "    <tr>\n",
       "      <th>Marseille-Hyeres-Nice</th>\n",
       "      <td>Marseille-Hyeres-Nice</td>\n",
       "      <td>FRA</td>\n",
       "      <td>1898</td>\n",
       "      <td>Non-championship</td>\n",
       "      <td>Fernand Charron</td>\n",
       "    </tr>\n",
       "    <tr>\n",
       "      <th>Paris-Trouville</th>\n",
       "      <td>Paris-Trouville</td>\n",
       "      <td>FRA</td>\n",
       "      <td>1897</td>\n",
       "      <td>Non-championship</td>\n",
       "      <td>Gilles Hourgieres</td>\n",
       "    </tr>\n",
       "    <tr>\n",
       "      <th>Paris-Dieppe</th>\n",
       "      <td>Paris-Dieppe</td>\n",
       "      <td>FRA</td>\n",
       "      <td>1897</td>\n",
       "      <td>Non-championship</td>\n",
       "      <td>Albert de Dion</td>\n",
       "    </tr>\n",
       "    <tr>\n",
       "      <th>Marseille-La Turbie-Marseille</th>\n",
       "      <td>Marseille-La Turbie-Marseille</td>\n",
       "      <td>FRA</td>\n",
       "      <td>1897</td>\n",
       "      <td>Non-championship</td>\n",
       "      <td>Gaston Chasseloup Laubat</td>\n",
       "    </tr>\n",
       "    <tr>\n",
       "      <th>Paris-Marseille</th>\n",
       "      <td>Paris-Marseille-Paris</td>\n",
       "      <td>FRA</td>\n",
       "      <td>1896</td>\n",
       "      <td>Non-championship</td>\n",
       "      <td>Emile Mayade</td>\n",
       "    </tr>\n",
       "    <tr>\n",
       "      <th>Paris-Bordeaux</th>\n",
       "      <td>Paris-Bordeaux-Paris</td>\n",
       "      <td>FRA</td>\n",
       "      <td>1895</td>\n",
       "      <td>Non-championship</td>\n",
       "      <td>Emile Levassor</td>\n",
       "    </tr>\n",
       "    <tr>\n",
       "      <th>Paris-Rouen</th>\n",
       "      <td>Paris-Rouen</td>\n",
       "      <td>FRA</td>\n",
       "      <td>1894</td>\n",
       "      <td>Non-championship</td>\n",
       "      <td>Albert de Dion</td>\n",
       "    </tr>\n",
       "  </tbody>\n",
       "</table>\n",
       "<p>12863 rows × 5 columns</p>\n",
       "</div>"
      ],
      "text/plain": [
       "                                                               dirkalisce  \\\n",
       "ime                                                                         \n",
       "Mexican Grand Prix                                  Gran Premio de Mexico   \n",
       "Australian MotoGP               Michelin Australian Motorcycle Grand Prix   \n",
       "Martinsville NASCAR                                        First Data 500   \n",
       "Suzuka WTCR                                        Race of Japan - Race 2   \n",
       "Suzuka WTCR                                        Race of Japan - Race 3   \n",
       "Suzuka Super Formula                                                  NaN   \n",
       "Suzuka WTCR                                        Race of Japan - Race 1   \n",
       "Japanese MotoGP                                 Motul Grand Prix of Japan   \n",
       "Kansas NASCAR                                        Hollywood Casino 400   \n",
       "United States Grand Prix                 Pirelli United States Grand Prix   \n",
       "...                                                                   ...   \n",
       "Nice-Castellane-Nice                                 Nice-Castellane-Nice   \n",
       "Paris-Amsterdam                                     Paris-Amsterdam-Paris   \n",
       "Paris-Bordeaux                 Criterium des Entraineurs (Paris-Bordeaux)   \n",
       "Marseille-Hyeres-Nice                               Marseille-Hyeres-Nice   \n",
       "Paris-Trouville                                           Paris-Trouville   \n",
       "Paris-Dieppe                                                 Paris-Dieppe   \n",
       "Marseille-La Turbie-Marseille               Marseille-La Turbie-Marseille   \n",
       "Paris-Marseille                                     Paris-Marseille-Paris   \n",
       "Paris-Bordeaux                                       Paris-Bordeaux-Paris   \n",
       "Paris-Rouen                                                   Paris-Rouen   \n",
       "\n",
       "                              drzava  leto  \\\n",
       "ime                                          \n",
       "Mexican Grand Prix               MEX  2018   \n",
       "Australian MotoGP                AUS  2018   \n",
       "Martinsville NASCAR              USA  2018   \n",
       "Suzuka WTCR                      JPN  2018   \n",
       "Suzuka WTCR                      JPN  2018   \n",
       "Suzuka Super Formula             JPN  2018   \n",
       "Suzuka WTCR                      JPN  2018   \n",
       "Japanese MotoGP                  JPN  2018   \n",
       "Kansas NASCAR                    USA  2018   \n",
       "United States Grand Prix         USA  2018   \n",
       "...                              ...   ...   \n",
       "Nice-Castellane-Nice             FRA  1899   \n",
       "Paris-Amsterdam                  FRA  1898   \n",
       "Paris-Bordeaux                   FRA  1898   \n",
       "Marseille-Hyeres-Nice            FRA  1898   \n",
       "Paris-Trouville                  FRA  1897   \n",
       "Paris-Dieppe                     FRA  1897   \n",
       "Marseille-La Turbie-Marseille    FRA  1897   \n",
       "Paris-Marseille                  FRA  1896   \n",
       "Paris-Bordeaux                   FRA  1895   \n",
       "Paris-Rouen                      FRA  1894   \n",
       "\n",
       "                                                         prvenstvo  \\\n",
       "ime                                                                  \n",
       "Mexican Grand Prix                           F1 World Championship   \n",
       "Australian MotoGP                    World Motorcycle Championship   \n",
       "Martinsville NASCAR                      Monster Energy NASCAR Cup   \n",
       "Suzuka WTCR                                  World Touring Car Cup   \n",
       "Suzuka WTCR                                  World Touring Car Cup   \n",
       "Suzuka Super Formula           Japanese Super Formula Championship   \n",
       "Suzuka WTCR                                  World Touring Car Cup   \n",
       "Japanese MotoGP                      World Motorcycle Championship   \n",
       "Kansas NASCAR                            Monster Energy NASCAR Cup   \n",
       "United States Grand Prix                     F1 World Championship   \n",
       "...                                                            ...   \n",
       "Nice-Castellane-Nice                              Non-championship   \n",
       "Paris-Amsterdam                                   Non-championship   \n",
       "Paris-Bordeaux                                    Non-championship   \n",
       "Marseille-Hyeres-Nice                             Non-championship   \n",
       "Paris-Trouville                                   Non-championship   \n",
       "Paris-Dieppe                                      Non-championship   \n",
       "Marseille-La Turbie-Marseille                     Non-championship   \n",
       "Paris-Marseille                                   Non-championship   \n",
       "Paris-Bordeaux                                    Non-championship   \n",
       "Paris-Rouen                                       Non-championship   \n",
       "\n",
       "                                             zmagovalec  \n",
       "ime                                                      \n",
       "Mexican Grand Prix                       Max Verstappen  \n",
       "Australian MotoGP                      Maverick Vinales  \n",
       "Martinsville NASCAR                         Joey Logano  \n",
       "Suzuka WTCR                                    Rob Huff  \n",
       "Suzuka WTCR                           Gabriele Tarquini  \n",
       "Suzuka Super Formula                     Naoki Yamamoto  \n",
       "Suzuka WTCR                                Kevin Ceccon  \n",
       "Japanese MotoGP                            Marc Marquez  \n",
       "Kansas NASCAR                             Chase Elliott  \n",
       "United States Grand Prix                 Kimi Raikkonen  \n",
       "...                                                 ...  \n",
       "Nice-Castellane-Nice                    Albert Lemaitre  \n",
       "Paris-Amsterdam                         Fernand Charron  \n",
       "Paris-Bordeaux                            Rene de Knyff  \n",
       "Marseille-Hyeres-Nice                   Fernand Charron  \n",
       "Paris-Trouville                       Gilles Hourgieres  \n",
       "Paris-Dieppe                             Albert de Dion  \n",
       "Marseille-La Turbie-Marseille  Gaston Chasseloup Laubat  \n",
       "Paris-Marseille                            Emile Mayade  \n",
       "Paris-Bordeaux                           Emile Levassor  \n",
       "Paris-Rouen                              Albert de Dion  \n",
       "\n",
       "[12863 rows x 5 columns]"
      ]
     },
     "execution_count": 152,
     "metadata": {},
     "output_type": "execute_result"
    }
   ],
   "source": [
    "dirke"
   ]
  },
  {
   "cell_type": "markdown",
   "metadata": {},
   "source": [
    "## PRILJUBLJENOST DIRK"
   ]
  },
  {
   "cell_type": "markdown",
   "metadata": {},
   "source": [
    "### Dirke v različnih državah"
   ]
  },
  {
   "cell_type": "markdown",
   "metadata": {},
   "source": [
    "Najprej se posvetimo dirkam in kje se jih je odvilo največ, glede na državo in tudi glede na obdobje."
   ]
  },
  {
   "cell_type": "code",
   "execution_count": 153,
   "metadata": {},
   "outputs": [
    {
     "data": {
      "text/plain": [
       "ime\n",
       "Mexican Grand Prix               MEX\n",
       "Australian MotoGP                AUS\n",
       "Martinsville NASCAR              USA\n",
       "Suzuka WTCR                      JPN\n",
       "Suzuka WTCR                      JPN\n",
       "Suzuka Super Formula             JPN\n",
       "Suzuka WTCR                      JPN\n",
       "Japanese MotoGP                  JPN\n",
       "Kansas NASCAR                    USA\n",
       "United States Grand Prix         USA\n",
       "                                ... \n",
       "Nice-Castellane-Nice             FRA\n",
       "Paris-Amsterdam                  FRA\n",
       "Paris-Bordeaux                   FRA\n",
       "Marseille-Hyeres-Nice            FRA\n",
       "Paris-Trouville                  FRA\n",
       "Paris-Dieppe                     FRA\n",
       "Marseille-La Turbie-Marseille    FRA\n",
       "Paris-Marseille                  FRA\n",
       "Paris-Bordeaux                   FRA\n",
       "Paris-Rouen                      FRA\n",
       "Name: drzava, Length: 12863, dtype: object"
      ]
     },
     "execution_count": 153,
     "metadata": {},
     "output_type": "execute_result"
    }
   ],
   "source": [
    "dirke[\"drzava\"]"
   ]
  },
  {
   "cell_type": "code",
   "execution_count": 187,
   "metadata": {},
   "outputs": [
    {
     "data": {
      "text/plain": [
       "drzava\n",
       "USA    5563\n",
       "DEU     995\n",
       "GBR     928\n",
       "ITA     882\n",
       "FRA     726\n",
       "ESP     475\n",
       "BEL     393\n",
       "CAN     288\n",
       "ZAF     211\n",
       "NLD     205\n",
       "       ... \n",
       "POL       4\n",
       "URY       3\n",
       "ROU       3\n",
       "THA       3\n",
       "IND       3\n",
       "NOR       3\n",
       "HKG       3\n",
       "COL       2\n",
       "CHL       1\n",
       "CUW       1\n",
       "Length: 57, dtype: int64"
      ]
     },
     "execution_count": 187,
     "metadata": {},
     "output_type": "execute_result"
    }
   ],
   "source": [
    "dirke.groupby('drzava').size().sort_values(ascending=False)"
   ]
  },
  {
   "cell_type": "markdown",
   "metadata": {},
   "source": [
    "Dirke so bile organizirane v 57-ih različnih državah po svetu. Največ dirk do sedaj se je odvilo v Združenih državah Amerike (USA), z veliko manj dirkami ji sledita Nemčija (DEU) in Velika Britanija (GBR). Kurakao (CUW) in Čile (CHL) sta gostili samo eno dirko, z eno dirko več jima sledi Kolumbija (COL)."
   ]
  },
  {
   "cell_type": "markdown",
   "metadata": {},
   "source": [
    "### Dirkanje v različnih obdobjih"
   ]
  },
  {
   "cell_type": "code",
   "execution_count": 157,
   "metadata": {},
   "outputs": [],
   "source": [
    "dirke['desetletje'] = 10 * (dirke.leto // 10)"
   ]
  },
  {
   "cell_type": "code",
   "execution_count": 158,
   "metadata": {},
   "outputs": [
    {
     "data": {
      "text/plain": [
       "<matplotlib.axes._subplots.AxesSubplot at 0x25722b00>"
      ]
     },
     "execution_count": 158,
     "metadata": {},
     "output_type": "execute_result"
    },
    {
     "data": {
      "image/png": "[encoded data removed]",
      "text/plain": [
       "<Figure size 432x288 with 1 Axes>"
      ]
     },
     "metadata": {
      "needs_background": "light"
     },
     "output_type": "display_data"
    }
   ],
   "source": [
    "dirke.groupby('desetletje').size().plot()"
   ]
  },
  {
   "cell_type": "markdown",
   "metadata": {},
   "source": [
    "Zgornji graf kaže odvisnost med obdobjem (desetletjem) in številom dirk. Opazimo, da število dirk skozi leta skoraj vedno narašča. Rahla padca sta bila le pred letom 1940, kar bi morda celo pripisala temu, da se je bližala 2. svetovna vojna, ter okoli leta 1970. V zadnjem desetletju, pa se je odvilo več kot 2500 dirk."
   ]
  },
  {
   "cell_type": "markdown",
   "metadata": {},
   "source": [
    "### Dirkanje v različnih prvenstvih"
   ]
  },
  {
   "cell_type": "code",
   "execution_count": 159,
   "metadata": {
    "scrolled": true
   },
   "outputs": [
    {
     "data": {
      "text/plain": [
       "prvenstvo\n",
       "Non-championship                      1093\n",
       "F1 World Championship                  992\n",
       "NASCAR Grand National                  973\n",
       "World Motorcycle Championship          649\n",
       "Winston Cup                            567\n",
       "AAA National Championship              493\n",
       "Winston Cup Grand National             465\n",
       "Deutsche Tourenwagen Meisterschaft     449\n",
       "European F3 Championship               338\n",
       "Sprint Cup                             324\n",
       "dtype: int64"
      ]
     },
     "execution_count": 159,
     "metadata": {},
     "output_type": "execute_result"
    }
   ],
   "source": [
    "dirke.groupby('prvenstvo').size().sort_values(ascending=False).head(10)"
   ]
  },
  {
   "cell_type": "markdown",
   "metadata": {},
   "source": [
    "Če razvrstimo dirke po kategorijah opazimo, da je bilo največ dirk odpeljanih v kategoriji Formule 1 (pri čemer seveda zanemarimo kategorijo, kjer prvenstvo ni določeno (Non-championship)). V Formuli 1 je bilo odpeljanih 992 dirk, z nekoliko manj dirkami ji sledi NASCAR in potem še Svetovno prvenstvo v motociklizmu (danes bolj znano kot MotoGP)."
   ]
  },
  {
   "cell_type": "code",
   "execution_count": 160,
   "metadata": {},
   "outputs": [
    {
     "data": {
      "text/plain": [
       "<matplotlib.axes._subplots.AxesSubplot at 0x25848390>"
      ]
     },
     "execution_count": 160,
     "metadata": {},
     "output_type": "execute_result"
    },
    {
     "data": {
      "image/png": "[encoded data removed]",
      "text/plain": [
       "<Figure size 432x288 with 1 Axes>"
      ]
     },
     "metadata": {
      "needs_background": "light"
     },
     "output_type": "display_data"
    }
   ],
   "source": [
    "dirke.groupby('prvenstvo').size().sort_values(ascending=False)[1:11].plot.bar()"
   ]
  },
  {
   "cell_type": "markdown",
   "metadata": {},
   "source": [
    "Za te 3 največja prvenstva, si oglejmo še, v katerih državah so njihove dirke najpogosteje odpeljane."
   ]
  },
  {
   "cell_type": "code",
   "execution_count": 161,
   "metadata": {},
   "outputs": [],
   "source": [
    "drzava_prvenstvo = pd.read_csv('avto-moto dirke obdelani podatki\\drzava-prvenstvo.csv')\n",
    "\n",
    "F1 = drzava_prvenstvo[drzava_prvenstvo.prvenstvo == 'F1 World Championship']\n",
    "NASCAR = drzava_prvenstvo[drzava_prvenstvo.prvenstvo == 'NASCAR Grand National']\n",
    "MotoGP = drzava_prvenstvo[drzava_prvenstvo.prvenstvo == 'World Motorcycle Championship']"
   ]
  },
  {
   "cell_type": "code",
   "execution_count": 162,
   "metadata": {},
   "outputs": [
    {
     "data": {
      "text/plain": [
       "<matplotlib.axes._subplots.AxesSubplot at 0x6e392e8>"
      ]
     },
     "execution_count": 162,
     "metadata": {},
     "output_type": "execute_result"
    },
    {
     "data": {
      "image/png": "[encoded data removed]",
      "text/plain": [
       "<Figure size 432x288 with 1 Axes>"
      ]
     },
     "metadata": {
      "needs_background": "light"
     },
     "output_type": "display_data"
    }
   ],
   "source": [
    "F1.groupby('drzava').size().sort_values(ascending=False).head(15).plot.bar()"
   ]
  },
  {
   "cell_type": "code",
   "execution_count": 163,
   "metadata": {},
   "outputs": [
    {
     "data": {
      "text/plain": [
       "<matplotlib.axes._subplots.AxesSubplot at 0x27037ba8>"
      ]
     },
     "execution_count": 163,
     "metadata": {},
     "output_type": "execute_result"
    },
    {
     "data": {
      "image/png": "[encoded data removed]",
      "text/plain": [
       "<Figure size 432x288 with 1 Axes>"
      ]
     },
     "metadata": {},
     "output_type": "display_data"
    }
   ],
   "source": [
    "NASCAR.groupby('drzava').size().sort_values(ascending=False).plot.pie()"
   ]
  },
  {
   "cell_type": "code",
   "execution_count": 164,
   "metadata": {},
   "outputs": [
    {
     "data": {
      "text/plain": [
       "<matplotlib.axes._subplots.AxesSubplot at 0x27071358>"
      ]
     },
     "execution_count": 164,
     "metadata": {},
     "output_type": "execute_result"
    },
    {
     "data": {
      "image/png": "[encoded data removed]",
      "text/plain": [
       "<Figure size 432x288 with 1 Axes>"
      ]
     },
     "metadata": {
      "needs_background": "light"
     },
     "output_type": "display_data"
    }
   ],
   "source": [
    "MotoGP.groupby('drzava').size().sort_values(ascending=False).head(15).plot.bar()"
   ]
  },
  {
   "cell_type": "markdown",
   "metadata": {},
   "source": [
    "Ugotovili smo, da je bila Formula 1 odpeljana največkrat v Italiji, NASCAR v ZDA (tudi sicer je NASCAR potekal le v ZDA in Kanadi), Svetovno prvenstvo v motociklizmu pa je največkrat bilo v Španiji. Podatki niso presenetljivi, saj je je največja gledanost in zanimanje za te kategorije prav v državah, v katerih je tudi največ dirk."
   ]
  },
  {
   "cell_type": "markdown",
   "metadata": {},
   "source": [
    "## USPEŠNOST DIRKAČEV"
   ]
  },
  {
   "cell_type": "markdown",
   "metadata": {},
   "source": [
    "V tem delu se želim bolj posvetiti zmagovalcem dirk."
   ]
  },
  {
   "cell_type": "code",
   "execution_count": 188,
   "metadata": {},
   "outputs": [
    {
     "data": {
      "text/plain": [
       "zmagovalec                 prvenstvo                               \n",
       "Richard Petty              NASCAR Grand National                       118\n",
       "Michael Schumacher         F1 World Championship                        91\n",
       "Valentino Rossi            World Motorcycle Championship                89\n",
       "Richard Petty              Winston Cup Grand National                   81\n",
       "Lewis Hamilton             F1 World Championship                        71\n",
       "Cale Yarborough            Winston Cup Grand National                   69\n",
       "Darrell Waltrip            Winston Cup Grand National                   67\n",
       "Jeff Gordon                Winston Cup                                  64\n",
       "Bobby Allison              Winston Cup Grand National                   63\n",
       "Dale Earnhardt             Winston Cup                                  61\n",
       "                                                                      ... \n",
       "Kelly Collins              Paul Edwards                                  1\n",
       "Keith Holland              ShellSport Group 8 European Championship      1\n",
       "Kazuki Nakajima            Sebastien Buemi                               1\n",
       "Keith Holland              Non-championship                              1\n",
       "Keith Andrews              AAA National Championship                     1\n",
       "Keisuke Kunimoto           Non-championship                              1\n",
       "Keiji Matsumoto            Kazuyoshi Hoshino                             1\n",
       "Kees Nierop                Jim Mullen                                    1\n",
       "Kazuya Oshima              F3 Euroseries                                 1\n",
       "&quot;Alfred Levegh&quot;  Leonce Girardot                               1\n",
       "Length: 3553, dtype: int64"
      ]
     },
     "execution_count": 188,
     "metadata": {},
     "output_type": "execute_result"
    }
   ],
   "source": [
    "dirke.groupby(['zmagovalec', 'prvenstvo']).size().sort_values(ascending=False)"
   ]
  },
  {
   "cell_type": "code",
   "execution_count": 166,
   "metadata": {},
   "outputs": [
    {
     "data": {
      "text/plain": [
       "<matplotlib.axes._subplots.AxesSubplot at 0x270cdbe0>"
      ]
     },
     "execution_count": 166,
     "metadata": {},
     "output_type": "execute_result"
    },
    {
     "data": {
      "image/png": "[encoded data removed]",
      "text/plain": [
       "<Figure size 432x288 with 1 Axes>"
      ]
     },
     "metadata": {
      "needs_background": "light"
     },
     "output_type": "display_data"
    }
   ],
   "source": [
    "dirke.groupby('zmagovalec').size().sort_values(ascending=False).head(15).plot.bar()"
   ]
  },
  {
   "cell_type": "markdown",
   "metadata": {},
   "source": [
    "Najuspešnejši dirkači (dirkači z največ zmagami) so Richard Petty, Michael Schumacher in Valentino Rossi. Razberemo pa lahko tudi, da je med 12863 zabeleženih dirk kar 1936 različnih zmagovalcev. Če dobro pogledamo prvo tabelo vidimo, da je dirkač Richard Petty nastopal celo v dveh prvenstvih, torej je skupno zmagal kar 199-krat, zato močno odstopa od drugih."
   ]
  },
  {
   "cell_type": "code",
   "execution_count": 193,
   "metadata": {},
   "outputs": [],
   "source": [
    "brez_zmagovalca = dirke[dirke.zmagovalec == 'Ni zmagovalca']"
   ]
  },
  {
   "cell_type": "code",
   "execution_count": 194,
   "metadata": {},
   "outputs": [
    {
     "data": {
      "text/html": [
       "<div>\n",
       "<style scoped>\n",
       "    .dataframe tbody tr th:only-of-type {\n",
       "        vertical-align: middle;\n",
       "    }\n",
       "\n",
       "    .dataframe tbody tr th {\n",
       "        vertical-align: top;\n",
       "    }\n",
       "\n",
       "    .dataframe thead th {\n",
       "        text-align: right;\n",
       "    }\n",
       "</style>\n",
       "<table border=\"1\" class=\"dataframe\">\n",
       "  <thead>\n",
       "    <tr style=\"text-align: right;\">\n",
       "      <th></th>\n",
       "      <th>dirkalisce</th>\n",
       "      <th>drzava</th>\n",
       "      <th>leto</th>\n",
       "      <th>prvenstvo</th>\n",
       "      <th>zmagovalec</th>\n",
       "      <th>desetletje</th>\n",
       "    </tr>\n",
       "    <tr>\n",
       "      <th>ime</th>\n",
       "      <th></th>\n",
       "      <th></th>\n",
       "      <th></th>\n",
       "      <th></th>\n",
       "      <th></th>\n",
       "      <th></th>\n",
       "    </tr>\n",
       "  </thead>\n",
       "  <tbody>\n",
       "    <tr>\n",
       "      <th>British MotoGP</th>\n",
       "      <td>GoPro British Grand Prix</td>\n",
       "      <td>GBR</td>\n",
       "      <td>2018</td>\n",
       "      <td>World Motorcycle Championship</td>\n",
       "      <td>Ni zmagovalca</td>\n",
       "      <td>2010</td>\n",
       "    </tr>\n",
       "    <tr>\n",
       "      <th>Autopolis Super Formula</th>\n",
       "      <td>NaN</td>\n",
       "      <td>JPN</td>\n",
       "      <td>2018</td>\n",
       "      <td>Japanese Super Formula Championship</td>\n",
       "      <td>Ni zmagovalca</td>\n",
       "      <td>2010</td>\n",
       "    </tr>\n",
       "    <tr>\n",
       "      <th>Monza GP3</th>\n",
       "      <td>NaN</td>\n",
       "      <td>ITA</td>\n",
       "      <td>2017</td>\n",
       "      <td>GP3 Series</td>\n",
       "      <td>Ni zmagovalca</td>\n",
       "      <td>2010</td>\n",
       "    </tr>\n",
       "    <tr>\n",
       "      <th>Abu Dhabi GP2</th>\n",
       "      <td>NaN</td>\n",
       "      <td>ARE</td>\n",
       "      <td>2015</td>\n",
       "      <td>GP2 Series</td>\n",
       "      <td>Ni zmagovalca</td>\n",
       "      <td>2010</td>\n",
       "    </tr>\n",
       "    <tr>\n",
       "      <th>Slovakiaring WTCC</th>\n",
       "      <td>NaN</td>\n",
       "      <td>SVK</td>\n",
       "      <td>2014</td>\n",
       "      <td>World Touring Car Championship</td>\n",
       "      <td>Ni zmagovalca</td>\n",
       "      <td>2010</td>\n",
       "    </tr>\n",
       "    <tr>\n",
       "      <th>Norisring DTM</th>\n",
       "      <td>NaN</td>\n",
       "      <td>DEU</td>\n",
       "      <td>2013</td>\n",
       "      <td>Deutsche Tourenwagen Meisterschaft</td>\n",
       "      <td>Ni zmagovalca</td>\n",
       "      <td>2010</td>\n",
       "    </tr>\n",
       "    <tr>\n",
       "      <th>Norisring European F3</th>\n",
       "      <td>NaN</td>\n",
       "      <td>DEU</td>\n",
       "      <td>2012</td>\n",
       "      <td>F3 Euroseries</td>\n",
       "      <td>Ni zmagovalca</td>\n",
       "      <td>2010</td>\n",
       "    </tr>\n",
       "    <tr>\n",
       "      <th>Norisring European F3</th>\n",
       "      <td>NaN</td>\n",
       "      <td>DEU</td>\n",
       "      <td>2012</td>\n",
       "      <td>European F3 Championship</td>\n",
       "      <td>Ni zmagovalca</td>\n",
       "      <td>2010</td>\n",
       "    </tr>\n",
       "    <tr>\n",
       "      <th>Malaysian MotoGP</th>\n",
       "      <td>Shell Advance Malaysian Motorcycle Grand Prix</td>\n",
       "      <td>MYS</td>\n",
       "      <td>2011</td>\n",
       "      <td>World Motorcycle Championship</td>\n",
       "      <td>Ni zmagovalca</td>\n",
       "      <td>2010</td>\n",
       "    </tr>\n",
       "    <tr>\n",
       "      <th>Las Vegas Indycars</th>\n",
       "      <td>IZOD Indycar World Championships at Las Vegas</td>\n",
       "      <td>USA</td>\n",
       "      <td>2011</td>\n",
       "      <td>IZOD IndyCar Series</td>\n",
       "      <td>Ni zmagovalca</td>\n",
       "      <td>2010</td>\n",
       "    </tr>\n",
       "    <tr>\n",
       "      <th>Dubai GP2 Asia</th>\n",
       "      <td>NaN</td>\n",
       "      <td>ARE</td>\n",
       "      <td>2008</td>\n",
       "      <td>GP2 Asia Series</td>\n",
       "      <td>Ni zmagovalca</td>\n",
       "      <td>2000</td>\n",
       "    </tr>\n",
       "    <tr>\n",
       "      <th>Texas Champ Cars</th>\n",
       "      <td>Firestone Firehawk 600</td>\n",
       "      <td>USA</td>\n",
       "      <td>2001</td>\n",
       "      <td>FedEx Championship Series</td>\n",
       "      <td>Ni zmagovalca</td>\n",
       "      <td>2000</td>\n",
       "    </tr>\n",
       "    <tr>\n",
       "      <th>Lausitz DTM</th>\n",
       "      <td>NaN</td>\n",
       "      <td>DEU</td>\n",
       "      <td>2000</td>\n",
       "      <td>Deutsche Tourenwagen Meisterschaft</td>\n",
       "      <td>Ni zmagovalca</td>\n",
       "      <td>2000</td>\n",
       "    </tr>\n",
       "    <tr>\n",
       "      <th>Lausitz DTM</th>\n",
       "      <td>NaN</td>\n",
       "      <td>DEU</td>\n",
       "      <td>2000</td>\n",
       "      <td>Deutsche Tourenwagen Meisterschaft</td>\n",
       "      <td>Ni zmagovalca</td>\n",
       "      <td>2000</td>\n",
       "    </tr>\n",
       "    <tr>\n",
       "      <th>Hockenheim DTM</th>\n",
       "      <td>NaN</td>\n",
       "      <td>DEU</td>\n",
       "      <td>1984</td>\n",
       "      <td>Deutsche Tourenwagen Meisterschaft</td>\n",
       "      <td>Ni zmagovalca</td>\n",
       "      <td>1980</td>\n",
       "    </tr>\n",
       "    <tr>\n",
       "      <th>Oulton Park British F2</th>\n",
       "      <td>BARC 200</td>\n",
       "      <td>GBR</td>\n",
       "      <td>1966</td>\n",
       "      <td>Autocar British F2 Championship</td>\n",
       "      <td>Ni zmagovalca</td>\n",
       "      <td>1960</td>\n",
       "    </tr>\n",
       "    <tr>\n",
       "      <th>Silverstone British F2</th>\n",
       "      <td>Senior Service BARC 200</td>\n",
       "      <td>GBR</td>\n",
       "      <td>1965</td>\n",
       "      <td>Autocar British F2 Championship</td>\n",
       "      <td>Ni zmagovalca</td>\n",
       "      <td>1960</td>\n",
       "    </tr>\n",
       "  </tbody>\n",
       "</table>\n",
       "</div>"
      ],
      "text/plain": [
       "                                                            dirkalisce drzava  \\\n",
       "ime                                                                             \n",
       "British MotoGP                                GoPro British Grand Prix    GBR   \n",
       "Autopolis Super Formula                                            NaN    JPN   \n",
       "Monza GP3                                                          NaN    ITA   \n",
       "Abu Dhabi GP2                                                      NaN    ARE   \n",
       "Slovakiaring WTCC                                                  NaN    SVK   \n",
       "Norisring DTM                                                      NaN    DEU   \n",
       "Norisring European F3                                              NaN    DEU   \n",
       "Norisring European F3                                              NaN    DEU   \n",
       "Malaysian MotoGP         Shell Advance Malaysian Motorcycle Grand Prix    MYS   \n",
       "Las Vegas Indycars       IZOD Indycar World Championships at Las Vegas    USA   \n",
       "Dubai GP2 Asia                                                     NaN    ARE   \n",
       "Texas Champ Cars                                Firestone Firehawk 600    USA   \n",
       "Lausitz DTM                                                        NaN    DEU   \n",
       "Lausitz DTM                                                        NaN    DEU   \n",
       "Hockenheim DTM                                                     NaN    DEU   \n",
       "Oulton Park British F2                                        BARC 200    GBR   \n",
       "Silverstone British F2                         Senior Service BARC 200    GBR   \n",
       "\n",
       "                         leto                            prvenstvo  \\\n",
       "ime                                                                  \n",
       "British MotoGP           2018        World Motorcycle Championship   \n",
       "Autopolis Super Formula  2018  Japanese Super Formula Championship   \n",
       "Monza GP3                2017                           GP3 Series   \n",
       "Abu Dhabi GP2            2015                           GP2 Series   \n",
       "Slovakiaring WTCC        2014       World Touring Car Championship   \n",
       "Norisring DTM            2013   Deutsche Tourenwagen Meisterschaft   \n",
       "Norisring European F3    2012                        F3 Euroseries   \n",
       "Norisring European F3    2012             European F3 Championship   \n",
       "Malaysian MotoGP         2011        World Motorcycle Championship   \n",
       "Las Vegas Indycars       2011                  IZOD IndyCar Series   \n",
       "Dubai GP2 Asia           2008                      GP2 Asia Series   \n",
       "Texas Champ Cars         2001            FedEx Championship Series   \n",
       "Lausitz DTM              2000   Deutsche Tourenwagen Meisterschaft   \n",
       "Lausitz DTM              2000   Deutsche Tourenwagen Meisterschaft   \n",
       "Hockenheim DTM           1984   Deutsche Tourenwagen Meisterschaft   \n",
       "Oulton Park British F2   1966      Autocar British F2 Championship   \n",
       "Silverstone British F2   1965      Autocar British F2 Championship   \n",
       "\n",
       "                            zmagovalec  desetletje  \n",
       "ime                                                 \n",
       "British MotoGP           Ni zmagovalca        2010  \n",
       "Autopolis Super Formula  Ni zmagovalca        2010  \n",
       "Monza GP3                Ni zmagovalca        2010  \n",
       "Abu Dhabi GP2            Ni zmagovalca        2010  \n",
       "Slovakiaring WTCC        Ni zmagovalca        2010  \n",
       "Norisring DTM            Ni zmagovalca        2010  \n",
       "Norisring European F3    Ni zmagovalca        2010  \n",
       "Norisring European F3    Ni zmagovalca        2010  \n",
       "Malaysian MotoGP         Ni zmagovalca        2010  \n",
       "Las Vegas Indycars       Ni zmagovalca        2010  \n",
       "Dubai GP2 Asia           Ni zmagovalca        2000  \n",
       "Texas Champ Cars         Ni zmagovalca        2000  \n",
       "Lausitz DTM              Ni zmagovalca        2000  \n",
       "Lausitz DTM              Ni zmagovalca        2000  \n",
       "Hockenheim DTM           Ni zmagovalca        1980  \n",
       "Oulton Park British F2   Ni zmagovalca        1960  \n",
       "Silverstone British F2   Ni zmagovalca        1960  "
      ]
     },
     "execution_count": 194,
     "metadata": {},
     "output_type": "execute_result"
    }
   ],
   "source": [
    "brez_zmagovalca"
   ]
  },
  {
   "cell_type": "code",
   "execution_count": 195,
   "metadata": {},
   "outputs": [
    {
     "data": {
      "text/plain": [
       "dirkalisce     6\n",
       "drzava        17\n",
       "leto          17\n",
       "prvenstvo     17\n",
       "zmagovalec    17\n",
       "desetletje    17\n",
       "dtype: int64"
      ]
     },
     "execution_count": 195,
     "metadata": {},
     "output_type": "execute_result"
    }
   ],
   "source": [
    "brez_zmagovalca.count()"
   ]
  },
  {
   "cell_type": "markdown",
   "metadata": {},
   "source": [
    "Zanimivo je, da obstajajo tudi dirke, ki sploh nimajo zmagovalca. Vseh skupaj jih je 17."
   ]
  },
  {
   "cell_type": "markdown",
   "metadata": {},
   "source": [
    "Poglejmo sedaj še uspešnost dirkačev v posameznih kategorijah, v posameznih letih in v posameznih državah."
   ]
  },
  {
   "cell_type": "markdown",
   "metadata": {},
   "source": [
    "### Dirkači posameznih kategorij"
   ]
  },
  {
   "cell_type": "code",
   "execution_count": 167,
   "metadata": {},
   "outputs": [],
   "source": [
    "prvenstvo_zmagovalec = pd.read_csv('avto-moto dirke obdelani podatki\\prvenstvo-zmagovalec.csv')\n",
    "\n",
    "F1_z = prvenstvo_zmagovalec[prvenstvo_zmagovalec.prvenstvo == 'F1 World Championship']\n",
    "NASCAR_z = prvenstvo_zmagovalec[prvenstvo_zmagovalec.prvenstvo == 'NASCAR Grand National']\n",
    "MotoGP_z = prvenstvo_zmagovalec[prvenstvo_zmagovalec.prvenstvo == 'World Motorcycle Championship']"
   ]
  },
  {
   "cell_type": "code",
   "execution_count": 168,
   "metadata": {
    "scrolled": true
   },
   "outputs": [
    {
     "data": {
      "text/plain": [
       "<matplotlib.axes._subplots.AxesSubplot at 0x271a8ac8>"
      ]
     },
     "execution_count": 168,
     "metadata": {},
     "output_type": "execute_result"
    },
    {
     "data": {
      "image/png": "[encoded data removed]",
      "text/plain": [
       "<Figure size 432x288 with 1 Axes>"
      ]
     },
     "metadata": {
      "needs_background": "light"
     },
     "output_type": "display_data"
    }
   ],
   "source": [
    "F1_z.groupby('zmagovalec').size().sort_values(ascending=False).head(15).plot.bar()"
   ]
  },
  {
   "cell_type": "markdown",
   "metadata": {},
   "source": [
    "Najuspešnejši dirkač Formule 1 je Michael Schumacher, za njim sta Lewis Hamilton (aktualni svetovni prvak) in Sebastian Vettel."
   ]
  },
  {
   "cell_type": "code",
   "execution_count": 169,
   "metadata": {},
   "outputs": [
    {
     "data": {
      "text/plain": [
       "<matplotlib.axes._subplots.AxesSubplot at 0x2723eba8>"
      ]
     },
     "execution_count": 169,
     "metadata": {},
     "output_type": "execute_result"
    },
    {
     "data": {
      "image/png": "[encoded data removed]",
      "text/plain": [
       "<Figure size 432x288 with 1 Axes>"
      ]
     },
     "metadata": {
      "needs_background": "light"
     },
     "output_type": "display_data"
    }
   ],
   "source": [
    "NASCAR_z.groupby('zmagovalec').size().sort_values(ascending=False).head(15).plot.bar()"
   ]
  },
  {
   "cell_type": "markdown",
   "metadata": {},
   "source": [
    "Najuspešnejši dirkaš NASCAR-ja je Richard Petty, sledita pa mu David Pearson in Lee Petty. Trenutnega aktualnega prvaka Joeya Logana pa ni med najboljših 15 dirkačev."
   ]
  },
  {
   "cell_type": "code",
   "execution_count": 170,
   "metadata": {
    "scrolled": true
   },
   "outputs": [
    {
     "data": {
      "text/plain": [
       "<matplotlib.axes._subplots.AxesSubplot at 0x2723e5f8>"
      ]
     },
     "execution_count": 170,
     "metadata": {},
     "output_type": "execute_result"
    },
    {
     "data": {
      "image/png": "[encoded data removed]",
      "text/plain": [
       "<Figure size 432x288 with 1 Axes>"
      ]
     },
     "metadata": {
      "needs_background": "light"
     },
     "output_type": "display_data"
    }
   ],
   "source": [
    "MotoGP_z.groupby('zmagovalec').size().sort_values(ascending=False).head(15).plot.bar()"
   ]
  },
  {
   "cell_type": "markdown",
   "metadata": {},
   "source": [
    "Najuspešnejši dirkač vseh časov v kategoriji MotoGP je Valentino Rossi, drugi je Mick Doohan in treti Jorge Lorenzo. aktualni svetovni prvak Marc Marquez je četri najuspešnejši."
   ]
  },
  {
   "cell_type": "markdown",
   "metadata": {},
   "source": [
    "### Najuspešnejši dirkači po obdobjih"
   ]
  },
  {
   "cell_type": "code",
   "execution_count": 177,
   "metadata": {
    "scrolled": true
   },
   "outputs": [
    {
     "data": {
      "text/plain": [
       "desetletje  zmagovalec        \n",
       "1960        Richard Petty         103\n",
       "1970        Richard Petty          89\n",
       "2000        Valentino Rossi        77\n",
       "1960        Jim Clark              65\n",
       "2010        Lewis Hamilton         60\n",
       "1980        Darrell Waltrip        57\n",
       "2000        Michael Schumacher     56\n",
       "1960        David Pearson          56\n",
       "1990        Mick Doohan            54\n",
       "1970        Cale Yarborough        52\n",
       "1950        Herb Thomas            49\n",
       "1990        Jeff Gordon            49\n",
       "1950        Lee Petty              47\n",
       "2000        Jimmie Johnson         47\n",
       "1970        David Pearson          47\n",
       "2010        Sebastian Vettel       47\n",
       "1960        Ned Jarrett            46\n",
       "            John Love              46\n",
       "            AJ Foyt jr             44\n",
       "2010        Felix Rosenqvist       43\n",
       "dtype: int64"
      ]
     },
     "execution_count": 177,
     "metadata": {},
     "output_type": "execute_result"
    }
   ],
   "source": [
    "dirke.sort_values('zmagovalec').groupby(['desetletje', 'zmagovalec']).size().sort_values(ascending=False).head(20)"
   ]
  },
  {
   "cell_type": "markdown",
   "metadata": {},
   "source": [
    "Vidimo, da je imel vsak dirkač svoja zlata leta, ko je nabiral zmage. Richard Petty je svoj uspeh žel kar dve desetletji."
   ]
  },
  {
   "cell_type": "code",
   "execution_count": 116,
   "metadata": {
    "scrolled": false
   },
   "outputs": [
    {
     "data": {
      "text/plain": [
       "desetletje  zmagovalec               \n",
       "1890        &quot;Alfred Levegh&quot;     2\n",
       "            Albert Lemaitre               2\n",
       "            Albert de Dion                2\n",
       "            Anthony                       1\n",
       "            Emile Levassor                1\n",
       "            Emile Mayade                  1\n",
       "            Fernand Charron               3\n",
       "            Gaston Chasseloup Laubat      1\n",
       "            Gilles Hourgieres             1\n",
       "            Leonce Girardot               1\n",
       "                                         ..\n",
       "2010        Will Power                   31\n",
       "            Will Stevens                  2\n",
       "            Yann Clairay                  1\n",
       "            Yann Ehrlacher                3\n",
       "            Yelmer Buurman                7\n",
       "            Yuhi Sekiguchi                5\n",
       "            Yuji Kunimoto                 2\n",
       "            Yvan Muller                  41\n",
       "            Zach Veach                    6\n",
       "            Zachary Claman de Melo        1\n",
       "Length: 2559, dtype: int64"
      ]
     },
     "execution_count": 116,
     "metadata": {},
     "output_type": "execute_result"
    }
   ],
   "source": [
    "dirke.groupby(['desetletje', 'zmagovalec']).size()"
   ]
  },
  {
   "cell_type": "code",
   "execution_count": 176,
   "metadata": {
    "scrolled": false
   },
   "outputs": [
    {
     "data": {
      "text/plain": [
       "[]"
      ]
     },
     "execution_count": 176,
     "metadata": {},
     "output_type": "execute_result"
    },
    {
     "data": {
      "image/png": "[encoded data removed]",
      "text/plain": [
       "<Figure size 432x288 with 1 Axes>"
      ]
     },
     "metadata": {
      "needs_background": "light"
     },
     "output_type": "display_data"
    }
   ],
   "source": [
    "(dirke.groupby(['desetletje', 'zmagovalec']).size()).plot.bar().set_xticklabels([])"
   ]
  },
  {
   "cell_type": "markdown",
   "metadata": {},
   "source": [
    "Abcisna os grafa je urejena tudi po desetletjih, tako lahko vidimo, da so na vsake toliko prišla obdobja nekaterih dirkačev, ki po zmagah močno odstopajo od drugih."
   ]
  },
  {
   "cell_type": "code",
   "execution_count": 178,
   "metadata": {},
   "outputs": [],
   "source": [
    "prvo_obdobje = dirke[(dirke.leto >= 1960) & (dirke.leto < 1980)]\n",
    "drugo_obdobje = dirke[(dirke.leto >= 1980) & (dirke.leto < 2000)]\n",
    "tretje_obdobje = dirke[(dirke.leto >= 2000)]"
   ]
  },
  {
   "cell_type": "code",
   "execution_count": 184,
   "metadata": {},
   "outputs": [
    {
     "data": {
      "text/plain": [
       "zmagovalec       prvenstvo                         \n",
       "Richard Petty    NASCAR Grand National                 118\n",
       "                 Winston Cup Grand National             71\n",
       "AJ Foyt jr       USAC National Championship             59\n",
       "David Pearson    NASCAR Grand National                  57\n",
       "Cale Yarborough  Winston Cup Grand National             49\n",
       "Ned Jarrett      NASCAR Grand National                  46\n",
       "David Pearson    Winston Cup Grand National             46\n",
       "Dave Charlton    South African Drivers Championship     46\n",
       "John Love        South African Drivers Championship     45\n",
       "Bobby Allison    Winston Cup Grand National             38\n",
       "dtype: int64"
      ]
     },
     "execution_count": 184,
     "metadata": {},
     "output_type": "execute_result"
    }
   ],
   "source": [
    "prvo_obdobje.groupby(['zmagovalec', 'prvenstvo']).size().sort_values(ascending=False).head(10)"
   ]
  },
  {
   "cell_type": "code",
   "execution_count": 185,
   "metadata": {},
   "outputs": [
    {
     "data": {
      "text/plain": [
       "zmagovalec          prvenstvo                         \n",
       "Dale Earnhardt      Winston Cup                           59\n",
       "Mick Doohan         World Motorcycle Championship         54\n",
       "Alain Prost         F1 World Championship                 51\n",
       "Jeff Gordon         Winston Cup                           49\n",
       "Rusty Wallace       Winston Cup                           49\n",
       "Darrell Waltrip     Winston Cup Grand National            45\n",
       "Ayrton Senna        F1 World Championship                 41\n",
       "Michael Schumacher  F1 World Championship                 35\n",
       "Nigel Mansell       F1 World Championship                 31\n",
       "Klaus Ludwig        Deutsche Tourenwagen Meisterschaft    31\n",
       "dtype: int64"
      ]
     },
     "execution_count": 185,
     "metadata": {},
     "output_type": "execute_result"
    }
   ],
   "source": [
    "drugo_obdobje.groupby(['zmagovalec', 'prvenstvo']).size().sort_values(ascending=False).head(10)"
   ]
  },
  {
   "cell_type": "code",
   "execution_count": 186,
   "metadata": {
    "scrolled": false
   },
   "outputs": [
    {
     "data": {
      "text/plain": [
       "zmagovalec          prvenstvo                     \n",
       "Valentino Rossi     World Motorcycle Championship     89\n",
       "Lewis Hamilton      F1 World Championship             71\n",
       "Michael Schumacher  F1 World Championship             56\n",
       "Sebastian Vettel    F1 World Championship             52\n",
       "Yvan Muller         World Touring Car Championship    48\n",
       "Jorge Lorenzo       World Motorcycle Championship     47\n",
       "Jimmie Johnson      Sprint Cup                        47\n",
       "Marc Marquez        World Motorcycle Championship     43\n",
       "Casey Stoner        World Motorcycle Championship     38\n",
       "Kyle Busch          Sprint Cup                        34\n",
       "dtype: int64"
      ]
     },
     "execution_count": 186,
     "metadata": {},
     "output_type": "execute_result"
    }
   ],
   "source": [
    "tretje_obdobje.groupby(['zmagovalec', 'prvenstvo']).size().sort_values(ascending=False).head(10)"
   ]
  },
  {
   "cell_type": "markdown",
   "metadata": {},
   "source": [
    "V zgornjih treh tabelah so našteti najuspešnejši dirkači v posameznih obdobjih. Posvetila sem se le letom po 1960, ko je tudi število dirk na leto zrastlo nad 1000, torej to so obdobja, ko je avto-moto šport zares začel svoj vzpon v priljubljenosti.\n",
    "V prvem obdobju med leti 1960 in 1980 je nedvomno najuspešnejši dirkač Richard Petty, ki je več kot uspešno nastopal v kar dveh prvenstvih. Med leti 1980 in 2000 so bili po številu zmag najuspešnejši Dale Earnhardt, Mick Doohan in Alain Prost. Vsak pa je nastopal v svojem prvenstvu. Od začetka novega tisočletja pa do danes je najuspečnejši dirkač Valentino Rossi (MotoGP), sledi mu Lewis Hamilton (Formula 1), ki sta za razliko od tretjega najuspešnejšega dirkača, še aktivna. Na tretjem mestu je torej že nekaj časa upokojeni dirkač Formule 1 Michael Schumacher. Njegovi uspehi pa so očitno tako veliki, da je kljub temu, da že dolgo ne dirka več, vseeno tretji najuspešnejši dirkač zadnjih 19 let."
   ]
  },
  {
   "cell_type": "markdown",
   "metadata": {},
   "source": [
    "### Uspehi dirkačev v različnih državah"
   ]
  },
  {
   "cell_type": "code",
   "execution_count": 77,
   "metadata": {},
   "outputs": [],
   "source": [
    "drzava_zmagovalec = pd.read_csv('avto-moto dirke obdelani podatki\\drzava-zmagovalec.csv')\n",
    "\n",
    "Zda = drzava_zmagovalec[drzava_zmagovalec.drzava == 'USA']\n",
    "Nem = drzava_zmagovalec[drzava_zmagovalec.drzava == 'DEU']\n",
    "Ang = drzava_zmagovalec[drzava_zmagovalec.drzava == 'GBR']\n",
    "Ita = drzava_zmagovalec[drzava_zmagovalec.drzava == 'ITA']\n",
    "Spa = drzava_zmagovalec[drzava_zmagovalec.drzava == 'ESP']"
   ]
  },
  {
   "cell_type": "code",
   "execution_count": 78,
   "metadata": {},
   "outputs": [
    {
     "data": {
      "text/plain": [
       "<matplotlib.axes._subplots.AxesSubplot at 0x15187240>"
      ]
     },
     "execution_count": 78,
     "metadata": {},
     "output_type": "execute_result"
    },
    {
     "data": {
      "image/png": "[encoded data removed]",
      "text/plain": [
       "<Figure size 432x288 with 1 Axes>"
      ]
     },
     "metadata": {},
     "output_type": "display_data"
    }
   ],
   "source": [
    "Zda.groupby('zmagovalec').size().sort_values(ascending=False).head(5).plot.pie()"
   ]
  },
  {
   "cell_type": "code",
   "execution_count": 79,
   "metadata": {},
   "outputs": [
    {
     "data": {
      "text/plain": [
       "<matplotlib.axes._subplots.AxesSubplot at 0x15091208>"
      ]
     },
     "execution_count": 79,
     "metadata": {},
     "output_type": "execute_result"
    },
    {
     "data": {
      "image/png": "[encoded data removed]",
      "text/plain": [
       "<Figure size 432x288 with 1 Axes>"
      ]
     },
     "metadata": {},
     "output_type": "display_data"
    }
   ],
   "source": [
    "Nem.groupby('zmagovalec').size().sort_values(ascending=False).head(5).plot.pie()"
   ]
  },
  {
   "cell_type": "code",
   "execution_count": 80,
   "metadata": {},
   "outputs": [
    {
     "data": {
      "text/plain": [
       "<matplotlib.axes._subplots.AxesSubplot at 0x163e2908>"
      ]
     },
     "execution_count": 80,
     "metadata": {},
     "output_type": "execute_result"
    },
    {
     "data": {
      "image/png": "[encoded data removed]",
      "text/plain": [
       "<Figure size 432x288 with 1 Axes>"
      ]
     },
     "metadata": {},
     "output_type": "display_data"
    }
   ],
   "source": [
    "Ang.groupby('zmagovalec').size().sort_values(ascending=False).head(5).plot.pie()"
   ]
  },
  {
   "cell_type": "code",
   "execution_count": 81,
   "metadata": {},
   "outputs": [
    {
     "data": {
      "text/plain": [
       "<matplotlib.axes._subplots.AxesSubplot at 0x1641cfd0>"
      ]
     },
     "execution_count": 81,
     "metadata": {},
     "output_type": "execute_result"
    },
    {
     "data": {
      "image/png": "[encoded data removed]",
      "text/plain": [
       "<Figure size 432x288 with 1 Axes>"
      ]
     },
     "metadata": {},
     "output_type": "display_data"
    }
   ],
   "source": [
    "Ita.groupby('zmagovalec').size().sort_values(ascending=False).head(5).plot.pie()"
   ]
  },
  {
   "cell_type": "code",
   "execution_count": 82,
   "metadata": {
    "scrolled": true
   },
   "outputs": [
    {
     "data": {
      "text/plain": [
       "<matplotlib.axes._subplots.AxesSubplot at 0x164627b8>"
      ]
     },
     "execution_count": 82,
     "metadata": {},
     "output_type": "execute_result"
    },
    {
     "data": {
      "image/png": "[encoded data removed]",
      "text/plain": [
       "<Figure size 432x288 with 1 Axes>"
      ]
     },
     "metadata": {},
     "output_type": "display_data"
    }
   ],
   "source": [
    "Spa.groupby('zmagovalec').size().sort_values(ascending=False).head(5).plot.pie()"
   ]
  },
  {
   "cell_type": "markdown",
   "metadata": {},
   "source": [
    "Pregledala sem statistiko petih najboljših dirkačev v izbranih petih državah (Združene države Amerike, Nemčija, Anglija, Italija in Španija). Vidimo lahko, da velikih odstopanj ni, da bi bili nekateri dirkači velik boljši v določenih državah. Treba pa je povdariti, da če se odvijajo dirke nekega prvenstva v malo različnih državah, je seveda toliko večja verjetnost, da bo dirkač, ki dirka v tej kategoriji uspešen v eni izmed teh držav. Kot primer izpostavljenega, lahko vidimo dirkača NASCARja Richarda Pettya, ki je nastopal skoraj da le v ZDA, za razliko od drugih dirkačev (na primer Formule 1 in MotoGPja), kjer dirke potekajo v več različnih državah skozi celo dirkaško sezono.\n",
    "Kot drugi tak primer pa je Španija, kjer na grafu petih najboljših dirkačev, lahko zasledimo same dirkače MotoGPja. Torej je očitno v Španiji zares priljubljen motociklizem, zaradi česar je posledično tam tudi več dirk te kategorije, in seveda s tem pride tudi večja verjetnost zmage dirkača MotoGP v Španiji."
   ]
  },
  {
   "cell_type": "markdown",
   "metadata": {},
   "source": [
    "## ZAKLJUČEK"
   ]
  },
  {
   "cell_type": "markdown",
   "metadata": {},
   "source": [
    "Med analiziranjem podatkov sem ugotovila, da obstaja zares veliko prvenstev avto-moto športa, ki so potekale v veliko bolj in manj znanih državah, ter skoraj na vseh celinah. Avto-moto šport postaja vedno bolj priljubljen tudi med gledalci, vsako leto se odvije ogromno dirk, ki so z razlogom močno obiskane. Najuspešnejši dirkač je dirkač prvenstva NASCAR Richard Petty, sledi mu Michael Schumacher, dirkač Formule 1, tretji najuspešnejši pa je Valentino Rossi, dirkač prvenstva MotoGP. Močne povezave med uspehi dirkačev v različnih državah žal nisem našla. \n",
    "Vsako leto se razvije veliko novih dirkačev in prav zagotovo bodo z leti prišli tudi novi večji dirkaški talenti, ki bodo zrušili nekaj zbranih rekordov in napisano statistiko, ter pisali svoje uspehe."
   ]
  }
 ],
 "metadata": {
  "kernelspec": {
   "display_name": "Python 3",
   "language": "python",
   "name": "python3"
  },
  "language_info": {
   "codemirror_mode": {
    "name": "ipython",
    "version": 3
   },
   "file_extension": ".py",
   "mimetype": "text/x-python",
   "name": "python",
   "nbconvert_exporter": "python",
   "pygments_lexer": "ipython3",
   "version": "3.6.4"
  }
 },
 "nbformat": 4,
 "nbformat_minor": 2
}
