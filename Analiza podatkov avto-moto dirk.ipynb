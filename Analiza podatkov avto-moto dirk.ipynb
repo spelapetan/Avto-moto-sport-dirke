{
 "cells": [
  {
   "cell_type": "markdown",
   "metadata": {},
   "source": [
    "# ANALIZA PODATKOV: AVTO-MOTO DIRKE"
   ]
  },
  {
   "cell_type": "markdown",
   "metadata": {},
   "source": [
    "Za projektno nalogo sem si izbrala analizo podatkov avto-moto dirk od začetkov beleženja uradnih dirk pa vse do konca oktobra 2018. Zbrala sem podatke o vseh dirkah, ki so potekale in bile zabeležene. Za vsako dirko sem zajela uradno ime dirke, prizorišče dirke, datum, prvenstvo in zmagovalca, če je le ta seveda sploh bil.\n",
    "\n",
    "Projektna naloga bo strukturirana iz dveh delov. \n",
    "Prvi del, bo predstavil zbrane podatke o dirkah. Tu bo vključena predvsem:\n",
    "        - število dirk v posameznih državah,\n",
    "        - statistika po posameznih prvenstvih in \n",
    "        - priljubljenost dirk po različnih časovnih obdobjih.\n",
    "V drugem delu, se bom bolj posvetila dirkačem. Predstavila bom:\n",
    "        - uspešnosti dirkačev v različnih kategorijah,\n",
    "        - uspešnost dirkačev na različnih dirkah in državah ter\n",
    "        - uspešnost dirkačev v različnih obdojih."
   ]
  },
  {
   "cell_type": "code",
   "execution_count": 30,
   "metadata": {},
   "outputs": [],
   "source": [
    "import pandas as pd\n",
    "import matplotlib.pyplot as mat\n",
    "%matplotlib inline\n",
    "\n",
    "dirke = pd.read_csv('avto-moto dirke csvji\\dirke.csv', index_col='ime')\n",
    "\n",
    "pd.options.display.max_rows = 20"
   ]
  },
  {
   "cell_type": "markdown",
   "metadata": {},
   "source": [
    "Za začetek si oglejmo izbrane podatke."
   ]
  },
  {
   "cell_type": "code",
   "execution_count": 31,
   "metadata": {
    "scrolled": false
   },
   "outputs": [
    {
     "data": {
      "text/html": [
       "<div>\n",
       "<style scoped>\n",
       "    .dataframe tbody tr th:only-of-type {\n",
       "        vertical-align: middle;\n",
       "    }\n",
       "\n",
       "    .dataframe tbody tr th {\n",
       "        vertical-align: top;\n",
       "    }\n",
       "\n",
       "    .dataframe thead th {\n",
       "        text-align: right;\n",
       "    }\n",
       "</style>\n",
       "<table border=\"1\" class=\"dataframe\">\n",
       "  <thead>\n",
       "    <tr style=\"text-align: right;\">\n",
       "      <th></th>\n",
       "      <th>dirkalisce</th>\n",
       "      <th>drzava</th>\n",
       "      <th>leto</th>\n",
       "      <th>prvenstvo</th>\n",
       "      <th>zmagovalec</th>\n",
       "    </tr>\n",
       "    <tr>\n",
       "      <th>ime</th>\n",
       "      <th></th>\n",
       "      <th></th>\n",
       "      <th></th>\n",
       "      <th></th>\n",
       "      <th></th>\n",
       "    </tr>\n",
       "  </thead>\n",
       "  <tbody>\n",
       "    <tr>\n",
       "      <th>Mexican Grand Prix</th>\n",
       "      <td>Gran Premio de Mexico</td>\n",
       "      <td>MEX</td>\n",
       "      <td>2018</td>\n",
       "      <td>F1 World Championship</td>\n",
       "      <td>Max Verstappen</td>\n",
       "    </tr>\n",
       "    <tr>\n",
       "      <th>Australian MotoGP</th>\n",
       "      <td>Michelin Australian Motorcycle Grand Prix</td>\n",
       "      <td>AUS</td>\n",
       "      <td>2018</td>\n",
       "      <td>World Motorcycle Championship</td>\n",
       "      <td>Maverick Vinales</td>\n",
       "    </tr>\n",
       "    <tr>\n",
       "      <th>Martinsville NASCAR</th>\n",
       "      <td>First Data 500</td>\n",
       "      <td>USA</td>\n",
       "      <td>2018</td>\n",
       "      <td>Monster Energy NASCAR Cup</td>\n",
       "      <td>Joey Logano</td>\n",
       "    </tr>\n",
       "    <tr>\n",
       "      <th>Suzuka WTCR</th>\n",
       "      <td>Race of Japan - Race 2</td>\n",
       "      <td>JPN</td>\n",
       "      <td>2018</td>\n",
       "      <td>World Touring Car Cup</td>\n",
       "      <td>Rob Huff</td>\n",
       "    </tr>\n",
       "    <tr>\n",
       "      <th>Suzuka WTCR</th>\n",
       "      <td>Race of Japan - Race 3</td>\n",
       "      <td>JPN</td>\n",
       "      <td>2018</td>\n",
       "      <td>World Touring Car Cup</td>\n",
       "      <td>Gabriele Tarquini</td>\n",
       "    </tr>\n",
       "    <tr>\n",
       "      <th>Suzuka Super Formula</th>\n",
       "      <td>NaN</td>\n",
       "      <td>JPN</td>\n",
       "      <td>2018</td>\n",
       "      <td>Japanese Super Formula Championship</td>\n",
       "      <td>Naoki Yamamoto</td>\n",
       "    </tr>\n",
       "    <tr>\n",
       "      <th>Suzuka WTCR</th>\n",
       "      <td>Race of Japan - Race 1</td>\n",
       "      <td>JPN</td>\n",
       "      <td>2018</td>\n",
       "      <td>World Touring Car Cup</td>\n",
       "      <td>Kevin Ceccon</td>\n",
       "    </tr>\n",
       "    <tr>\n",
       "      <th>Japanese MotoGP</th>\n",
       "      <td>Motul Grand Prix of Japan</td>\n",
       "      <td>JPN</td>\n",
       "      <td>2018</td>\n",
       "      <td>World Motorcycle Championship</td>\n",
       "      <td>Marc Marquez</td>\n",
       "    </tr>\n",
       "    <tr>\n",
       "      <th>Kansas NASCAR</th>\n",
       "      <td>Hollywood Casino 400</td>\n",
       "      <td>USA</td>\n",
       "      <td>2018</td>\n",
       "      <td>Monster Energy NASCAR Cup</td>\n",
       "      <td>Chase Elliott</td>\n",
       "    </tr>\n",
       "    <tr>\n",
       "      <th>United States Grand Prix</th>\n",
       "      <td>Pirelli United States Grand Prix</td>\n",
       "      <td>USA</td>\n",
       "      <td>2018</td>\n",
       "      <td>F1 World Championship</td>\n",
       "      <td>Kimi Raikkonen</td>\n",
       "    </tr>\n",
       "    <tr>\n",
       "      <th>...</th>\n",
       "      <td>...</td>\n",
       "      <td>...</td>\n",
       "      <td>...</td>\n",
       "      <td>...</td>\n",
       "      <td>...</td>\n",
       "    </tr>\n",
       "    <tr>\n",
       "      <th>Nice-Castellane-Nice</th>\n",
       "      <td>Nice-Castellane-Nice</td>\n",
       "      <td>FRA</td>\n",
       "      <td>1899</td>\n",
       "      <td>Non-championship</td>\n",
       "      <td>Albert Lemaitre</td>\n",
       "    </tr>\n",
       "    <tr>\n",
       "      <th>Paris-Amsterdam</th>\n",
       "      <td>Paris-Amsterdam-Paris</td>\n",
       "      <td>FRA</td>\n",
       "      <td>1898</td>\n",
       "      <td>Non-championship</td>\n",
       "      <td>Fernand Charron</td>\n",
       "    </tr>\n",
       "    <tr>\n",
       "      <th>Paris-Bordeaux</th>\n",
       "      <td>Criterium des Entraineurs (Paris-Bordeaux)</td>\n",
       "      <td>FRA</td>\n",
       "      <td>1898</td>\n",
       "      <td>Non-championship</td>\n",
       "      <td>Rene de Knyff</td>\n",
       "    </tr>\n",
       "    <tr>\n",
       "      <th>Marseille-Hyeres-Nice</th>\n",
       "      <td>Marseille-Hyeres-Nice</td>\n",
       "      <td>FRA</td>\n",
       "      <td>1898</td>\n",
       "      <td>Non-championship</td>\n",
       "      <td>Fernand Charron</td>\n",
       "    </tr>\n",
       "    <tr>\n",
       "      <th>Paris-Trouville</th>\n",
       "      <td>Paris-Trouville</td>\n",
       "      <td>FRA</td>\n",
       "      <td>1897</td>\n",
       "      <td>Non-championship</td>\n",
       "      <td>Gilles Hourgieres</td>\n",
       "    </tr>\n",
       "    <tr>\n",
       "      <th>Paris-Dieppe</th>\n",
       "      <td>Paris-Dieppe</td>\n",
       "      <td>FRA</td>\n",
       "      <td>1897</td>\n",
       "      <td>Non-championship</td>\n",
       "      <td>Albert de Dion</td>\n",
       "    </tr>\n",
       "    <tr>\n",
       "      <th>Marseille-La Turbie-Marseille</th>\n",
       "      <td>Marseille-La Turbie-Marseille</td>\n",
       "      <td>FRA</td>\n",
       "      <td>1897</td>\n",
       "      <td>Non-championship</td>\n",
       "      <td>Gaston Chasseloup Laubat</td>\n",
       "    </tr>\n",
       "    <tr>\n",
       "      <th>Paris-Marseille</th>\n",
       "      <td>Paris-Marseille-Paris</td>\n",
       "      <td>FRA</td>\n",
       "      <td>1896</td>\n",
       "      <td>Non-championship</td>\n",
       "      <td>Emile Mayade</td>\n",
       "    </tr>\n",
       "    <tr>\n",
       "      <th>Paris-Bordeaux</th>\n",
       "      <td>Paris-Bordeaux-Paris</td>\n",
       "      <td>FRA</td>\n",
       "      <td>1895</td>\n",
       "      <td>Non-championship</td>\n",
       "      <td>Emile Levassor</td>\n",
       "    </tr>\n",
       "    <tr>\n",
       "      <th>Paris-Rouen</th>\n",
       "      <td>Paris-Rouen</td>\n",
       "      <td>FRA</td>\n",
       "      <td>1894</td>\n",
       "      <td>Non-championship</td>\n",
       "      <td>Albert de Dion</td>\n",
       "    </tr>\n",
       "  </tbody>\n",
       "</table>\n",
       "<p>12863 rows × 5 columns</p>\n",
       "</div>"
      ],
      "text/plain": [
       "                                                               dirkalisce  \\\n",
       "ime                                                                         \n",
       "Mexican Grand Prix                                  Gran Premio de Mexico   \n",
       "Australian MotoGP               Michelin Australian Motorcycle Grand Prix   \n",
       "Martinsville NASCAR                                        First Data 500   \n",
       "Suzuka WTCR                                        Race of Japan - Race 2   \n",
       "Suzuka WTCR                                        Race of Japan - Race 3   \n",
       "Suzuka Super Formula                                                  NaN   \n",
       "Suzuka WTCR                                        Race of Japan - Race 1   \n",
       "Japanese MotoGP                                 Motul Grand Prix of Japan   \n",
       "Kansas NASCAR                                        Hollywood Casino 400   \n",
       "United States Grand Prix                 Pirelli United States Grand Prix   \n",
       "...                                                                   ...   \n",
       "Nice-Castellane-Nice                                 Nice-Castellane-Nice   \n",
       "Paris-Amsterdam                                     Paris-Amsterdam-Paris   \n",
       "Paris-Bordeaux                 Criterium des Entraineurs (Paris-Bordeaux)   \n",
       "Marseille-Hyeres-Nice                               Marseille-Hyeres-Nice   \n",
       "Paris-Trouville                                           Paris-Trouville   \n",
       "Paris-Dieppe                                                 Paris-Dieppe   \n",
       "Marseille-La Turbie-Marseille               Marseille-La Turbie-Marseille   \n",
       "Paris-Marseille                                     Paris-Marseille-Paris   \n",
       "Paris-Bordeaux                                       Paris-Bordeaux-Paris   \n",
       "Paris-Rouen                                                   Paris-Rouen   \n",
       "\n",
       "                              drzava  leto  \\\n",
       "ime                                          \n",
       "Mexican Grand Prix               MEX  2018   \n",
       "Australian MotoGP                AUS  2018   \n",
       "Martinsville NASCAR              USA  2018   \n",
       "Suzuka WTCR                      JPN  2018   \n",
       "Suzuka WTCR                      JPN  2018   \n",
       "Suzuka Super Formula             JPN  2018   \n",
       "Suzuka WTCR                      JPN  2018   \n",
       "Japanese MotoGP                  JPN  2018   \n",
       "Kansas NASCAR                    USA  2018   \n",
       "United States Grand Prix         USA  2018   \n",
       "...                              ...   ...   \n",
       "Nice-Castellane-Nice             FRA  1899   \n",
       "Paris-Amsterdam                  FRA  1898   \n",
       "Paris-Bordeaux                   FRA  1898   \n",
       "Marseille-Hyeres-Nice            FRA  1898   \n",
       "Paris-Trouville                  FRA  1897   \n",
       "Paris-Dieppe                     FRA  1897   \n",
       "Marseille-La Turbie-Marseille    FRA  1897   \n",
       "Paris-Marseille                  FRA  1896   \n",
       "Paris-Bordeaux                   FRA  1895   \n",
       "Paris-Rouen                      FRA  1894   \n",
       "\n",
       "                                                         prvenstvo  \\\n",
       "ime                                                                  \n",
       "Mexican Grand Prix                           F1 World Championship   \n",
       "Australian MotoGP                    World Motorcycle Championship   \n",
       "Martinsville NASCAR                      Monster Energy NASCAR Cup   \n",
       "Suzuka WTCR                                  World Touring Car Cup   \n",
       "Suzuka WTCR                                  World Touring Car Cup   \n",
       "Suzuka Super Formula           Japanese Super Formula Championship   \n",
       "Suzuka WTCR                                  World Touring Car Cup   \n",
       "Japanese MotoGP                      World Motorcycle Championship   \n",
       "Kansas NASCAR                            Monster Energy NASCAR Cup   \n",
       "United States Grand Prix                     F1 World Championship   \n",
       "...                                                            ...   \n",
       "Nice-Castellane-Nice                              Non-championship   \n",
       "Paris-Amsterdam                                   Non-championship   \n",
       "Paris-Bordeaux                                    Non-championship   \n",
       "Marseille-Hyeres-Nice                             Non-championship   \n",
       "Paris-Trouville                                   Non-championship   \n",
       "Paris-Dieppe                                      Non-championship   \n",
       "Marseille-La Turbie-Marseille                     Non-championship   \n",
       "Paris-Marseille                                   Non-championship   \n",
       "Paris-Bordeaux                                    Non-championship   \n",
       "Paris-Rouen                                       Non-championship   \n",
       "\n",
       "                                             zmagovalec  \n",
       "ime                                                      \n",
       "Mexican Grand Prix                       Max Verstappen  \n",
       "Australian MotoGP                      Maverick Vinales  \n",
       "Martinsville NASCAR                         Joey Logano  \n",
       "Suzuka WTCR                                    Rob Huff  \n",
       "Suzuka WTCR                           Gabriele Tarquini  \n",
       "Suzuka Super Formula                     Naoki Yamamoto  \n",
       "Suzuka WTCR                                Kevin Ceccon  \n",
       "Japanese MotoGP                            Marc Marquez  \n",
       "Kansas NASCAR                             Chase Elliott  \n",
       "United States Grand Prix                 Kimi Raikkonen  \n",
       "...                                                 ...  \n",
       "Nice-Castellane-Nice                    Albert Lemaitre  \n",
       "Paris-Amsterdam                         Fernand Charron  \n",
       "Paris-Bordeaux                            Rene de Knyff  \n",
       "Marseille-Hyeres-Nice                   Fernand Charron  \n",
       "Paris-Trouville                       Gilles Hourgieres  \n",
       "Paris-Dieppe                             Albert de Dion  \n",
       "Marseille-La Turbie-Marseille  Gaston Chasseloup Laubat  \n",
       "Paris-Marseille                            Emile Mayade  \n",
       "Paris-Bordeaux                           Emile Levassor  \n",
       "Paris-Rouen                              Albert de Dion  \n",
       "\n",
       "[12863 rows x 5 columns]"
      ]
     },
     "execution_count": 31,
     "metadata": {},
     "output_type": "execute_result"
    }
   ],
   "source": [
    "dirke"
   ]
  },
  {
   "cell_type": "markdown",
   "metadata": {},
   "source": [
    "### POVEZANOST DRŽAV Z AVTO-MOTO DIRKAMI"
   ]
  },
  {
   "cell_type": "markdown",
   "metadata": {},
   "source": [
    "Najprej se posvetimo dirkam in kje se je odvilo največ dirk, glede na državo in tudi glede na obdobje."
   ]
  },
  {
   "cell_type": "code",
   "execution_count": 32,
   "metadata": {},
   "outputs": [
    {
     "data": {
      "text/plain": [
       "ime\n",
       "Mexican Grand Prix               MEX\n",
       "Australian MotoGP                AUS\n",
       "Martinsville NASCAR              USA\n",
       "Suzuka WTCR                      JPN\n",
       "Suzuka WTCR                      JPN\n",
       "Suzuka Super Formula             JPN\n",
       "Suzuka WTCR                      JPN\n",
       "Japanese MotoGP                  JPN\n",
       "Kansas NASCAR                    USA\n",
       "United States Grand Prix         USA\n",
       "                                ... \n",
       "Nice-Castellane-Nice             FRA\n",
       "Paris-Amsterdam                  FRA\n",
       "Paris-Bordeaux                   FRA\n",
       "Marseille-Hyeres-Nice            FRA\n",
       "Paris-Trouville                  FRA\n",
       "Paris-Dieppe                     FRA\n",
       "Marseille-La Turbie-Marseille    FRA\n",
       "Paris-Marseille                  FRA\n",
       "Paris-Bordeaux                   FRA\n",
       "Paris-Rouen                      FRA\n",
       "Name: drzava, Length: 12863, dtype: object"
      ]
     },
     "execution_count": 32,
     "metadata": {},
     "output_type": "execute_result"
    }
   ],
   "source": [
    "dirke[\"drzava\"]"
   ]
  },
  {
   "cell_type": "code",
   "execution_count": 33,
   "metadata": {},
   "outputs": [],
   "source": [
    "drzave_dirk = dirke.groupby('drzava')"
   ]
  },
  {
   "cell_type": "code",
   "execution_count": 34,
   "metadata": {},
   "outputs": [],
   "source": [
    "stevilo_dirk_po_drzavah = drzave_dirk.size().sort_values(ascending=False)"
   ]
  },
  {
   "cell_type": "code",
   "execution_count": 35,
   "metadata": {},
   "outputs": [
    {
     "data": {
      "text/plain": [
       "drzava\n",
       "USA    5563\n",
       "DEU     995\n",
       "GBR     928\n",
       "ITA     882\n",
       "FRA     726\n",
       "ESP     475\n",
       "BEL     393\n",
       "CAN     288\n",
       "ZAF     211\n",
       "NLD     205\n",
       "       ... \n",
       "POL       4\n",
       "URY       3\n",
       "ROU       3\n",
       "THA       3\n",
       "IND       3\n",
       "NOR       3\n",
       "HKG       3\n",
       "COL       2\n",
       "CHL       1\n",
       "CUW       1\n",
       "Length: 57, dtype: int64"
      ]
     },
     "execution_count": 35,
     "metadata": {},
     "output_type": "execute_result"
    }
   ],
   "source": [
    "stevilo_dirk_po_drzavah"
   ]
  },
  {
   "cell_type": "markdown",
   "metadata": {},
   "source": [
    "Dirke so bile v 57-ih različnih državah po svetu. Največ dirk do sedaj se je odvilo v Združenih državah Amerike (USA), z veliko manj dirkami ji sledita Nemčija (DEU) in Velika Britanija (GBR). Kurakao (CUW) in Čile (CHL) sta gostili samo eno dirko, z eno dirko več jima sledi Kolumbija (COL)."
   ]
  },
  {
   "cell_type": "code",
   "execution_count": 37,
   "metadata": {},
   "outputs": [],
   "source": [
    "dirke['desetletje'] = 10 * (dirke.leto // 10)"
   ]
  },
  {
   "cell_type": "code",
   "execution_count": 44,
   "metadata": {},
   "outputs": [
    {
     "data": {
      "text/plain": [
       "<matplotlib.axes._subplots.AxesSubplot at 0x11527588>"
      ]
     },
     "execution_count": 44,
     "metadata": {},
     "output_type": "execute_result"
    },
    {
     "data": {
      "image/png": "[encoded data removed]",
      "text/plain": [
       "<Figure size 432x288 with 1 Axes>"
      ]
     },
     "metadata": {
      "needs_background": "light"
     },
     "output_type": "display_data"
    }
   ],
   "source": [
    "dirke.groupby('desetletje').size().plot()"
   ]
  },
  {
   "cell_type": "markdown",
   "metadata": {},
   "source": [
    "Zgornji graf kaže odvisnost med obdobjem (desetletjem) in številom dirk. Opazimo, da število dirk skozi leta skoraj vedno narašča. Rahla padca sta bila le pred letom 1940, kar bi morda celo pripisala temu, da se je bližala 2. svetovna vojna, ter okoli leta 1970. V zadnjem desetletju, pa se je odvilo več kot 2500 dirk."
   ]
  },
  {
   "cell_type": "code",
   "execution_count": 82,
   "metadata": {
    "scrolled": true
   },
   "outputs": [
    {
     "data": {
      "text/plain": [
       "prvenstvo\n",
       "Non-championship                      1093\n",
       "F1 World Championship                  992\n",
       "NASCAR Grand National                  973\n",
       "World Motorcycle Championship          649\n",
       "Winston Cup                            567\n",
       "AAA National Championship              493\n",
       "Winston Cup Grand National             465\n",
       "Deutsche Tourenwagen Meisterschaft     449\n",
       "European F3 Championship               338\n",
       "Sprint Cup                             324\n",
       "dtype: int64"
      ]
     },
     "execution_count": 82,
     "metadata": {},
     "output_type": "execute_result"
    }
   ],
   "source": [
    "dirke.groupby('prvenstvo').size().sort_values(ascending=False).head(10)"
   ]
  },
  {
   "cell_type": "markdown",
   "metadata": {},
   "source": [
    "Če razvrstimo dirke po kategorijah, opazimo, da je bilo največ dirk odpeljanih v kategoriji Formule 1 (pri čemer seveda zanemarimo kategorijo, kjer prvenstvo ni določeno (Non-championship)). V Formuli 1 je bilo odpeljanih 992 dirk, z nekoliko manj dirkami ji sledi NASCAR in potem še Svetovno prvenstvo v motociklizmu (danes bolj znano kot MotoGP)."
   ]
  },
  {
   "cell_type": "code",
   "execution_count": 85,
   "metadata": {},
   "outputs": [
    {
     "data": {
      "text/plain": [
       "<matplotlib.axes._subplots.AxesSubplot at 0x18e80c88>"
      ]
     },
     "execution_count": 85,
     "metadata": {},
     "output_type": "execute_result"
    },
    {
     "data": {
      "image/png": "[encoded data removed]",
      "text/plain": [
       "<Figure size 432x288 with 1 Axes>"
      ]
     },
     "metadata": {
      "needs_background": "light"
     },
     "output_type": "display_data"
    }
   ],
   "source": [
    "dirke.groupby('prvenstvo').size().sort_values(ascending=False)[1:11].plot.bar()"
   ]
  },
  {
   "cell_type": "markdown",
   "metadata": {},
   "source": [
    "Za te 3 največja prvenstva, si oglejmo še, v katerih državah so njihove dirke najpogosteje odpeljane."
   ]
  },
  {
   "cell_type": "code",
   "execution_count": 118,
   "metadata": {},
   "outputs": [],
   "source": [
    "drzava_prvenstvo = pd.read_csv('avto-moto dirke obdelani podatki\\drzava-prvenstvo.csv')"
   ]
  },
  {
   "cell_type": "code",
   "execution_count": 119,
   "metadata": {},
   "outputs": [],
   "source": [
    "F1 = drzava_prvenstvo[drzava_prvenstvo.prvenstvo == 'F1 World Championship']\n",
    "NASCAR = drzava_prvenstvo[drzava_prvenstvo.prvenstvo == 'NASCAR Grand National']\n",
    "MotoGP = drzava_prvenstvo[drzava_prvenstvo.prvenstvo == 'World Motorcycle Championship']"
   ]
  },
  {
   "cell_type": "code",
   "execution_count": 144,
   "metadata": {},
   "outputs": [
    {
     "data": {
      "text/plain": [
       "<matplotlib.axes._subplots.AxesSubplot at 0x2ccac828>"
      ]
     },
     "execution_count": 144,
     "metadata": {},
     "output_type": "execute_result"
    },
    {
     "data": {
      "image/png": "[encoded data removed]",
      "text/plain": [
       "<Figure size 432x288 with 1 Axes>"
      ]
     },
     "metadata": {
      "needs_background": "light"
     },
     "output_type": "display_data"
    }
   ],
   "source": [
    "F1.groupby('drzava').size().sort_values(ascending=False).head(15).plot.bar()"
   ]
  },
  {
   "cell_type": "code",
   "execution_count": 121,
   "metadata": {},
   "outputs": [
    {
     "data": {
      "text/plain": [
       "<matplotlib.axes._subplots.AxesSubplot at 0x2932e2e8>"
      ]
     },
     "execution_count": 121,
     "metadata": {},
     "output_type": "execute_result"
    },
    {
     "data": {
      "image/png": "[encoded data removed]",
      "text/plain": [
       "<Figure size 432x288 with 1 Axes>"
      ]
     },
     "metadata": {},
     "output_type": "display_data"
    }
   ],
   "source": [
    "NASCAR.groupby('drzava').size().sort_values(ascending=False).plot.pie()"
   ]
  },
  {
   "cell_type": "code",
   "execution_count": 122,
   "metadata": {},
   "outputs": [
    {
     "data": {
      "text/plain": [
       "<matplotlib.axes._subplots.AxesSubplot at 0x2d243588>"
      ]
     },
     "execution_count": 122,
     "metadata": {},
     "output_type": "execute_result"
    },
    {
     "data": {
      "image/png": "[encoded data removed]",
      "text/plain": [
       "<Figure size 432x288 with 1 Axes>"
      ]
     },
     "metadata": {
      "needs_background": "light"
     },
     "output_type": "display_data"
    }
   ],
   "source": [
    "MotoGP.groupby('drzava').size().sort_values(ascending=False).head(15).plot.bar()"
   ]
  },
  {
   "cell_type": "markdown",
   "metadata": {},
   "source": [
    "Ugotovili smo, da je bila Formula 1 odpeljana največkrat v Italiji, NASCAR v ZDA (tudi sicer je NASCAR potekal le v ZDA in Kanadi), Svetovno prvenstvo v motociklizmu pa je največkrat bilo v Španiji. Podatki niso presenetljivi, saj je je največja gledanost in zanimanje za te kategorije prav v državah, v katerih je tudi največ dirk."
   ]
  },
  {
   "cell_type": "markdown",
   "metadata": {},
   "source": [
    "### USPEŠNOST DIRKAČEV"
   ]
  },
  {
   "cell_type": "markdown",
   "metadata": {},
   "source": [
    "V tem delu se želim bolj posvetiti zmagovalcem dirk."
   ]
  },
  {
   "cell_type": "code",
   "execution_count": 110,
   "metadata": {},
   "outputs": [],
   "source": [
    "splosna_uspesnost = dirke.groupby('zmagovalec').size().sort_values(ascending=False)"
   ]
  },
  {
   "cell_type": "code",
   "execution_count": 111,
   "metadata": {},
   "outputs": [
    {
     "data": {
      "text/plain": [
       "zmagovalec\n",
       "Richard Petty         202\n",
       "David Pearson         104\n",
       "Michael Schumacher     94\n",
       "Jeff Gordon            94\n",
       "Lewis Hamilton         93\n",
       "Valentino Rossi        89\n",
       "Darrell Waltrip        85\n",
       "Bobby Allison          84\n",
       "Jimmie Johnson         83\n",
       "Cale Yarborough        83\n",
       "                     ... \n",
       "George Hammond          1\n",
       "Peter Selsdon           1\n",
       "George Connor           1\n",
       "Geoffrey Ansell         1\n",
       "Peter Terting           1\n",
       "Peter Westbury          1\n",
       "Geoff Boss              1\n",
       "Peter Zakowski          1\n",
       "Gaston Mazzacane        1\n",
       "de Langhe               1\n",
       "Length: 1936, dtype: int64"
      ]
     },
     "execution_count": 111,
     "metadata": {},
     "output_type": "execute_result"
    }
   ],
   "source": [
    "splosna_uspesnost"
   ]
  },
  {
   "cell_type": "code",
   "execution_count": 116,
   "metadata": {},
   "outputs": [
    {
     "data": {
      "text/plain": [
       "<matplotlib.axes._subplots.AxesSubplot at 0x2c709c50>"
      ]
     },
     "execution_count": 116,
     "metadata": {},
     "output_type": "execute_result"
    },
    {
     "data": {
      "image/png": "[encoded data removed]",
      "text/plain": [
       "<Figure size 432x288 with 1 Axes>"
      ]
     },
     "metadata": {
      "needs_background": "light"
     },
     "output_type": "display_data"
    }
   ],
   "source": [
    "dirke.groupby('zmagovalec').size().sort_values(ascending=False).head(15).plot.bar()"
   ]
  },
  {
   "cell_type": "markdown",
   "metadata": {},
   "source": [
    "Najuspešnejši dirkači (dirkači z največ zmagami) so Richard Petty, David Pearson in Michaell Schumacher. Razberemo pa lahko tudi, da je med 12863 zabeleženih dirk kar 1936 različnih zmagovalcev. Neverjetno pa je, koliko Richard Petty odstopa od vseh ostalih po številu zmag."
   ]
  },
  {
   "cell_type": "markdown",
   "metadata": {},
   "source": [
    "Poglejmo sedaj še uspešnost dirkačev v posameznih kategorija, v posameznih državah in na posameznih dirkališčih."
   ]
  },
  {
   "cell_type": "code",
   "execution_count": 137,
   "metadata": {},
   "outputs": [],
   "source": [
    "prvenstvo_zmagovalec = pd.read_csv('avto-moto dirke obdelani podatki\\prvenstvo-zmagovalec.csv')\n",
    "drzava_zmagovalec = pd.read_csv('avto-moto dirke obdelani podatki\\drzava-zmagovalec.csv')\n",
    "dirkalisce_zmagovalec = pd.read_csv('avto-moto dirke obdelani podatki\\dirkalisce-zmagovalec.csv')\n",
    "\n",
    "F1_z = prvenstvo_zmagovalec[prvenstvo_zmagovalec.prvenstvo == 'F1 World Championship']\n",
    "NASCAR_z = prvenstvo_zmagovalec[prvenstvo_zmagovalec.prvenstvo == 'NASCAR Grand National']\n",
    "MotoGP_z = prvenstvo_zmagovalec[prvenstvo_zmagovalec.prvenstvo == 'World Motorcycle Championship']"
   ]
  },
  {
   "cell_type": "code",
   "execution_count": 143,
   "metadata": {
    "scrolled": true
   },
   "outputs": [
    {
     "data": {
      "text/plain": [
       "<matplotlib.axes._subplots.AxesSubplot at 0x2ccacac8>"
      ]
     },
     "execution_count": 143,
     "metadata": {},
     "output_type": "execute_result"
    },
    {
     "data": {
      "image/png": "[encoded data removed]",
      "text/plain": [
       "<Figure size 432x288 with 1 Axes>"
      ]
     },
     "metadata": {
      "needs_background": "light"
     },
     "output_type": "display_data"
    }
   ],
   "source": [
    "F1_z.groupby('zmagovalec').size().sort_values(ascending=False).head(15).plot.bar()"
   ]
  },
  {
   "cell_type": "markdown",
   "metadata": {},
   "source": [
    "Najuspešnejši dirkač Formule 1 je Michael Schumacher, za njim sta Lewis Hamilton (aktualni svetovni prvak) in Lewis Vettel."
   ]
  },
  {
   "cell_type": "code",
   "execution_count": 149,
   "metadata": {},
   "outputs": [
    {
     "data": {
      "text/plain": [
       "<matplotlib.axes._subplots.AxesSubplot at 0x2d164ef0>"
      ]
     },
     "execution_count": 149,
     "metadata": {},
     "output_type": "execute_result"
    },
    {
     "data": {
      "image/png": "[encoded data removed]",
      "text/plain": [
       "<Figure size 432x288 with 1 Axes>"
      ]
     },
     "metadata": {
      "needs_background": "light"
     },
     "output_type": "display_data"
    }
   ],
   "source": [
    "NASCAR_z.groupby('zmagovalec').size().sort_values(ascending=False).head(15).plot.bar()"
   ]
  },
  {
   "cell_type": "markdown",
   "metadata": {},
   "source": [
    "Najuspešnejši dirkaš NASCAR-ja je Richard Petty, sledita pa mu David Pearson in Lee Petty. Trenutnega aktualnega prvaka Joeya Logana pa ni med najboljših 15 dirkačev."
   ]
  },
  {
   "cell_type": "code",
   "execution_count": 147,
   "metadata": {
    "scrolled": true
   },
   "outputs": [
    {
     "data": {
      "text/plain": [
       "<matplotlib.axes._subplots.AxesSubplot at 0x2d16f080>"
      ]
     },
     "execution_count": 147,
     "metadata": {},
     "output_type": "execute_result"
    },
    {
     "data": {
      "image/png": "[encoded data removed]",
      "text/plain": [
       "<Figure size 432x288 with 1 Axes>"
      ]
     },
     "metadata": {
      "needs_background": "light"
     },
     "output_type": "display_data"
    }
   ],
   "source": [
    "MotoGP_z.groupby('zmagovalec').size().sort_values(ascending=False).head(15).plot.bar()"
   ]
  },
  {
   "cell_type": "markdown",
   "metadata": {},
   "source": [
    "Najuspešnejši dirkač vseh časov v kategoriji MotoGP je Valentino Rossi, drugi je Mick Doohan in treti Jorge Lorenzo. aktualni svetovni prvak Marc Marquez je četri najuspešnejši."
   ]
  },
  {
   "cell_type": "code",
   "execution_count": 177,
   "metadata": {},
   "outputs": [],
   "source": [
    "drzava_zmagovalec['win'] = 1"
   ]
  },
  {
   "cell_type": "code",
   "execution_count": 221,
   "metadata": {},
   "outputs": [
    {
     "data": {
      "text/plain": [
       "desetletje  zmagovalec        \n",
       "1960        Richard Petty         103\n",
       "1970        Richard Petty          89\n",
       "2000        Valentino Rossi        77\n",
       "1960        Jim Clark              65\n",
       "2010        Lewis Hamilton         60\n",
       "1980        Darrell Waltrip        57\n",
       "2000        Michael Schumacher     56\n",
       "1960        David Pearson          56\n",
       "1990        Mick Doohan            54\n",
       "1970        Cale Yarborough        52\n",
       "1950        Herb Thomas            49\n",
       "1990        Jeff Gordon            49\n",
       "1950        Lee Petty              47\n",
       "2000        Jimmie Johnson         47\n",
       "1970        David Pearson          47\n",
       "2010        Sebastian Vettel       47\n",
       "1960        Ned Jarrett            46\n",
       "            John Love              46\n",
       "            AJ Foyt jr             44\n",
       "2010        Felix Rosenqvist       43\n",
       "dtype: int64"
      ]
     },
     "execution_count": 221,
     "metadata": {},
     "output_type": "execute_result"
    }
   ],
   "source": [
    "dirke.sort_values('zmagovalec').groupby(['desetletje', 'zmagovalec']).size().sort_values(ascending=False).head(20)"
   ]
  },
  {
   "cell_type": "code",
   "execution_count": 224,
   "metadata": {},
   "outputs": [
    {
     "data": {
      "text/plain": [
       "<matplotlib.axes._subplots.AxesSubplot at 0x2d5ded30>"
      ]
     },
     "execution_count": 224,
     "metadata": {},
     "output_type": "execute_result"
    },
    {
     "data": {
      "image/png": "[encoded data removed]",
      "text/plain": [
       "<Figure size 432x288 with 1 Axes>"
      ]
     },
     "metadata": {
      "needs_background": "light"
     },
     "output_type": "display_data"
    }
   ],
   "source": [
    "dirke.sort_values('zmagovalec').groupby(['desetletje', 'zmagovalec']).size().sort_values(ascending=False).head(20).plot.bar()"
   ]
  },
  {
   "cell_type": "code",
   "execution_count": 228,
   "metadata": {},
   "outputs": [
    {
     "data": {
      "text/plain": [
       "zmagovalec             drzava\n",
       "Richard Petty          USA       202\n",
       "David Pearson          USA       104\n",
       "Jeff Gordon            USA        94\n",
       "Darrell Waltrip        USA        85\n",
       "Bobby Allison          USA        84\n",
       "Cale Yarborough        USA        83\n",
       "Jimmie Johnson         USA        83\n",
       "Dale Earnhardt         USA        76\n",
       "AJ Foyt jr             USA        71\n",
       "Mario Andretti         USA        57\n",
       "                                ... \n",
       "Marc Goossens          ITA         1\n",
       "                       FRA         1\n",
       "                       DEU         1\n",
       "Marc Gene              FRA         1\n",
       "                       BEL         1\n",
       "Marc Duez              GBR         1\n",
       "                       BEL         1\n",
       "Manuel Saez Merino jr  DEU         1\n",
       "Manuel Reuter          GBR         1\n",
       "Jorg Muller            BEL         1\n",
       "Length: 4925, dtype: int64"
      ]
     },
     "execution_count": 228,
     "metadata": {},
     "output_type": "execute_result"
    }
   ],
   "source": [
    "dirke.sort_values('drzava').groupby(['zmagovalec', 'drzava']).size().sort_values(ascending=False)"
   ]
  }
 ],
 "metadata": {
  "kernelspec": {
   "display_name": "Python 3",
   "language": "python",
   "name": "python3"
  },
  "language_info": {
   "codemirror_mode": {
    "name": "ipython",
    "version": 3
   },
   "file_extension": ".py",
   "mimetype": "text/x-python",
   "name": "python",
   "nbconvert_exporter": "python",
   "pygments_lexer": "ipython3",
   "version": "3.6.4"
  }
 },
 "nbformat": 4,
 "nbformat_minor": 2
}
